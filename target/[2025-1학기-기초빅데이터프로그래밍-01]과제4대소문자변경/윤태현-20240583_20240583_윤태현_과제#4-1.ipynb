{
 "cells": [
  {
   "cell_type": "code",
   "execution_count": 11,
   "id": "710cc7a0-59fe-44c6-b3c3-f4a31af538e7",
   "metadata": {},
   "outputs": [
    {
     "name": "stdout",
     "output_type": "stream",
     "text": [
      "Overwriting chan.py\n"
     ]
    }
   ],
   "source": [
    "%%writefile chan.py\n",
    "def cto(a):   ##change to opposite\n",
    "    for i in a:\n",
    "        if i.isupper() == 1:\n",
    "            c=i.lower()\n",
    "        elif i.islower() == 1:\n",
    "            c=i.upper()\n",
    "        yield c\n",
    "\n",
    "def cou(a):  ##counting\n",
    "    b={}\n",
    "    c=[]\n",
    "    for i in a:  ##실행 예시에 딕셔너리 키가 전부 소문자이길래 소문자로 바꿔줌\n",
    "        l=i.lower()\n",
    "        c.append(l)\n",
    "    for i in c:\n",
    "        if i in b:\n",
    "            b[i]+=1\n",
    "        else:\n",
    "            b[i]=1\n",
    "    return b\n",
    "\n",
    "if __name__=='__main__':\n",
    "    while True:\n",
    "        st=input('Input : ')\n",
    "        if st == 'STOP': break   ##STOP 사인 가장 먼저 판단\n",
    "        else:\n",
    "            for i in cto(st):\n",
    "                print(i,end='')  ##yield 사용하여 하나씩 불러옴\n",
    "            print()   ##줄바꿈\n",
    "            print(cou(st))"
   ]
  },
  {
   "cell_type": "code",
   "execution_count": 12,
   "id": "def15e3a-65e8-49d2-b8a7-f8d6757bb63e",
   "metadata": {},
   "outputs": [
    {
     "name": "stdin",
     "output_type": "stream",
     "text": [
      "Input :  Sogang\n"
     ]
    },
    {
     "name": "stdout",
     "output_type": "stream",
     "text": [
      "sOGANG\n",
      "{'s': 1, 'o': 1, 'g': 2, 'a': 1, 'n': 1}\n"
     ]
    },
    {
     "name": "stdin",
     "output_type": "stream",
     "text": [
      "Input :  sogangoooo\n"
     ]
    },
    {
     "name": "stdout",
     "output_type": "stream",
     "text": [
      "SOGANGOOOO\n",
      "{'s': 1, 'o': 5, 'g': 2, 'a': 1, 'n': 1}\n"
     ]
    },
    {
     "name": "stdin",
     "output_type": "stream",
     "text": [
      "Input :  sOgAnG\n"
     ]
    },
    {
     "name": "stdout",
     "output_type": "stream",
     "text": [
      "SoGaNg\n",
      "{'s': 1, 'o': 1, 'g': 2, 'a': 1, 'n': 1}\n"
     ]
    },
    {
     "name": "stdin",
     "output_type": "stream",
     "text": [
      "Input :  SsSSsssSoOogaAaaAAnG\n"
     ]
    },
    {
     "name": "stdout",
     "output_type": "stream",
     "text": [
      "sSssSSSsOoOGAaAAaaNg\n",
      "{'s': 8, 'o': 3, 'g': 2, 'a': 6, 'n': 1}\n"
     ]
    },
    {
     "name": "stdin",
     "output_type": "stream",
     "text": [
      "Input :  STOP\n"
     ]
    }
   ],
   "source": [
    "%run chan.py"
   ]
  },
  {
   "cell_type": "code",
   "execution_count": null,
   "id": "3ad9fd37-5bb7-43a2-ad99-4ef47d817003",
   "metadata": {},
   "outputs": [],
   "source": []
  }
 ],
 "metadata": {
  "kernelspec": {
   "display_name": "Python 3 (ipykernel)",
   "language": "python",
   "name": "python3"
  },
  "language_info": {
   "codemirror_mode": {
    "name": "ipython",
    "version": 3
   },
   "file_extension": ".py",
   "mimetype": "text/x-python",
   "name": "python",
   "nbconvert_exporter": "python",
   "pygments_lexer": "ipython3",
   "version": "3.12.4"
  }
 },
 "nbformat": 4,
 "nbformat_minor": 5
}
