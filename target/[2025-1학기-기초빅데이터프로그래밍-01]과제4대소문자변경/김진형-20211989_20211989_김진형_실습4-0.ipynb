{
 "cells": [
  {
   "cell_type": "code",
   "execution_count": 18,
   "metadata": {},
   "outputs": [
    {
     "name": "stdout",
     "output_type": "stream",
     "text": [
      "Overwriting chan.py\n"
     ]
    }
   ],
   "source": [
    "%%writefile chan.py\n",
    "\n",
    "def count_str(sent):\n",
    "    sent = sent.lower()\n",
    "    cnt_list = []\n",
    "    for i in sent:\n",
    "        cnt = 0\n",
    "        for j in range(len(sent)):\n",
    "            if i == sent[j]:\n",
    "                cnt += 1\n",
    "        cnt_list.append(cnt)\n",
    "    return cnt_list\n",
    "\n",
    "\n",
    "def changer(sent):\n",
    "    change_list = []\n",
    "    for i in sent:\n",
    "        if i.islower():\n",
    "            change_list.append(i.upper())\n",
    "        else:\n",
    "            change_list.append(i.lower())\n",
    "    return \"\".join(change_list)\n",
    "\n",
    "\n",
    "if __name__ == \"__main__\":\n",
    "    while True:\n",
    "        sentence = input('input: ')\n",
    "        print(f'input: {sentence}')\n",
    "        if sentence == 'STOP':\n",
    "            print('Bye')\n",
    "            break\n",
    "        else:\n",
    "            x = count_str(sentence)\n",
    "            printed = set()\n",
    "            for i, j in enumerate(sentence):\n",
    "                lower_char = j.lower()\n",
    "                if lower_char not in printed:\n",
    "                    print('({} : {})'.format(j, x[i]), end=' ')\n",
    "                    printed.add(lower_char)\n",
    "            print()  \n",
    "            c = changer(sentence)\n",
    "            print(c)"
   ]
  },
  {
   "cell_type": "code",
   "execution_count": 19,
   "metadata": {},
   "outputs": [
    {
     "name": "stdout",
     "output_type": "stream",
     "text": [
      "input: SOgang\n",
      "(S : 1) (O : 1) (g : 2) (a : 1) (n : 1) \n",
      "soGANG\n",
      "input: STOP\n",
      "Bye\n"
     ]
    }
   ],
   "source": [
    "%run chan.py"
   ]
  }
 ],
 "metadata": {
  "kernelspec": {
   "display_name": "base",
   "language": "python",
   "name": "python3"
  },
  "language_info": {
   "codemirror_mode": {
    "name": "ipython",
    "version": 3
   },
   "file_extension": ".py",
   "mimetype": "text/x-python",
   "name": "python",
   "nbconvert_exporter": "python",
   "pygments_lexer": "ipython3",
   "version": "3.11.4"
  }
 },
 "nbformat": 4,
 "nbformat_minor": 2
}
