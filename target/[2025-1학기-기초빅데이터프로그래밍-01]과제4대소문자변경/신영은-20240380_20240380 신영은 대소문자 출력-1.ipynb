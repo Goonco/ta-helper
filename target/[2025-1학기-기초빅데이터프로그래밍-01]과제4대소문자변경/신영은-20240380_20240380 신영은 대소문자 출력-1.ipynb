{
 "cells": [
  {
   "cell_type": "code",
   "execution_count": 19,
   "metadata": {},
   "outputs": [
    {
     "name": "stdout",
     "output_type": "stream",
     "text": [
      "Writing chan.py\n"
     ]
    }
   ],
   "source": [
    "%%writefile chan.py\n",
    "\n",
    "def countStr(str):\n",
    "    result={}\n",
    "    for chr in str:\n",
    "        result[chr]=result.get(chr,0)+1\n",
    "    return result\n",
    "\n",
    "\n",
    "def changeLU(str):\n",
    "    result = \"\"\n",
    "    for chr in str:\n",
    "        if chr.isupper():\n",
    "            result += chr.lower()\n",
    "        elif chr.islower():\n",
    "            result += chr.upper()\n",
    "        else:\n",
    "            result += chr\n",
    "    return result\n",
    "    \n",
    "str=input(\"Input:\")\n",
    "if str==\"STOP\":\n",
    "    print(\"Bye\")\n",
    "\n",
    "else:\n",
    "    countRes=countStr(str)\n",
    "    for i in countRes:\n",
    "        print(\"(%s : %d)\" % (i, countRes[i]),end=\" \")\n",
    "    print()\n",
    "    print(changeLU(str))"
   ]
  },
  {
   "cell_type": "code",
   "execution_count": 20,
   "metadata": {},
   "outputs": [
    {
     "name": "stdin",
     "output_type": "stream",
     "text": [
      "Input: STOP\n"
     ]
    },
    {
     "name": "stdout",
     "output_type": "stream",
     "text": [
      "Bye\n"
     ]
    }
   ],
   "source": [
    "%run chan.py"
   ]
  },
  {
   "cell_type": "code",
   "execution_count": 21,
   "metadata": {},
   "outputs": [
    {
     "name": "stdin",
     "output_type": "stream",
     "text": [
      "Input: Sogang\n"
     ]
    },
    {
     "name": "stdout",
     "output_type": "stream",
     "text": [
      "(S : 1) (o : 1) (g : 2) (a : 1) (n : 1) \n",
      "sOGANG\n"
     ]
    }
   ],
   "source": [
    "%run chan.py"
   ]
  },
  {
   "cell_type": "code",
   "execution_count": null,
   "metadata": {},
   "outputs": [],
   "source": []
  }
 ],
 "metadata": {
  "kernelspec": {
   "display_name": "Python 3 (ipykernel)",
   "language": "python",
   "name": "python3"
  },
  "language_info": {
   "codemirror_mode": {
    "name": "ipython",
    "version": 3
   },
   "file_extension": ".py",
   "mimetype": "text/x-python",
   "name": "python",
   "nbconvert_exporter": "python",
   "pygments_lexer": "ipython3",
   "version": "3.11.0"
  }
 },
 "nbformat": 4,
 "nbformat_minor": 4
}
