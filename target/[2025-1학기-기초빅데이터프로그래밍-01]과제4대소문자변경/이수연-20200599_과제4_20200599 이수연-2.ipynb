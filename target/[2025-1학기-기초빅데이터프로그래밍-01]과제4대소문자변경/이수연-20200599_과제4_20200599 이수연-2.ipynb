{
 "cells": [
  {
   "cell_type": "code",
   "execution_count": 1,
   "id": "9cfc1d72-e43d-4c72-a882-4ad9c9ebf4e5",
   "metadata": {},
   "outputs": [
    {
     "name": "stdout",
     "output_type": "stream",
     "text": [
      "Writing hw4.py\n"
     ]
    }
   ],
   "source": [
    "%%writefile hw4.py\n",
    "\n",
    "def count_characters(sentence):\n",
    "    char_count = dict()\n",
    "    sentence = sentence.lower()\n",
    "    for char in sentence:\n",
    "        count = 0\n",
    "        for i in range(len(sentence)):\n",
    "            if char == sentence[i]:\n",
    "                count += 1\n",
    "        char_count[char] = count\n",
    "    return char_count\n",
    "\n",
    "\n",
    "def swap_case(sentence):\n",
    "    swapped = ''\n",
    "    for char in sentence:\n",
    "        if char.islower():\n",
    "            swapped += char.upper()\n",
    "        elif char == ' ':\n",
    "            swapped += char\n",
    "        else:\n",
    "            swapped += char.lower()\n",
    "    return swapped\n",
    "\n",
    "\n",
    "if __name__ == '__main__':\n",
    "    while True:\n",
    "        user_input = input('Please write a sentence or STOP for exit: ')\n",
    "        if user_input != 'STOP':\n",
    "            char_dict = count_characters(user_input)\n",
    "            keys_list = list(char_dict.keys())\n",
    "            for key in keys_list:\n",
    "                print(f'({key} : {char_dict[key]})', end=' ')\n",
    "            print()\n",
    "            swapped_str = swap_case(user_input)\n",
    "            print(swapped_str)\n",
    "        else:\n",
    "            print('Bye')\n",
    "            break"
   ]
  },
  {
   "cell_type": "code",
   "execution_count": 2,
   "id": "fef669f1-6412-4956-a032-550988ed401b",
   "metadata": {
    "scrolled": true
   },
   "outputs": [
    {
     "name": "stdin",
     "output_type": "stream",
     "text": [
      "Please write a sentence or STOP for exit:  Sogang\n"
     ]
    },
    {
     "name": "stdout",
     "output_type": "stream",
     "text": [
      "(s : 1) (o : 1) (g : 2) (a : 1) (n : 1) \n",
      "sOGANG\n"
     ]
    },
    {
     "name": "stdin",
     "output_type": "stream",
     "text": [
      "Please write a sentence or STOP for exit:  SOGANG\n"
     ]
    },
    {
     "name": "stdout",
     "output_type": "stream",
     "text": [
      "(s : 1) (o : 1) (g : 2) (a : 1) (n : 1) \n",
      "sogang\n"
     ]
    },
    {
     "name": "stdin",
     "output_type": "stream",
     "text": [
      "Please write a sentence or STOP for exit:  Univ\n"
     ]
    },
    {
     "name": "stdout",
     "output_type": "stream",
     "text": [
      "(u : 1) (n : 1) (i : 1) (v : 1) \n",
      "uNIV\n"
     ]
    },
    {
     "name": "stdin",
     "output_type": "stream",
     "text": [
      "Please write a sentence or STOP for exit:  Tel\n"
     ]
    },
    {
     "name": "stdout",
     "output_type": "stream",
     "text": [
      "(t : 1) (e : 1) (l : 1) \n",
      "tEL\n"
     ]
    },
    {
     "name": "stdin",
     "output_type": "stream",
     "text": [
      "Please write a sentence or STOP for exit:  STOP\n"
     ]
    },
    {
     "name": "stdout",
     "output_type": "stream",
     "text": [
      "Bye\n"
     ]
    }
   ],
   "source": [
    "%run hw4.py"
   ]
  },
  {
   "cell_type": "code",
   "execution_count": null,
   "id": "62ef47d1-97f1-445d-b855-c2277b4c9d4d",
   "metadata": {},
   "outputs": [],
   "source": []
  },
  {
   "cell_type": "code",
   "execution_count": null,
   "id": "a178c912-7192-48cf-9ef9-d3b62beb37e0",
   "metadata": {},
   "outputs": [],
   "source": []
  }
 ],
 "metadata": {
  "kernelspec": {
   "display_name": "Python 3 (ipykernel)",
   "language": "python",
   "name": "python3"
  },
  "language_info": {
   "codemirror_mode": {
    "name": "ipython",
    "version": 3
   },
   "file_extension": ".py",
   "mimetype": "text/x-python",
   "name": "python",
   "nbconvert_exporter": "python",
   "pygments_lexer": "ipython3",
   "version": "3.13.0"
  }
 },
 "nbformat": 4,
 "nbformat_minor": 5
}
