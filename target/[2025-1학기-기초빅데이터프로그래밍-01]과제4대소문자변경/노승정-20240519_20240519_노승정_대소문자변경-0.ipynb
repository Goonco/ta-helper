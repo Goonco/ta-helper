{
 "cells": [
  {
   "cell_type": "code",
   "execution_count": 133,
   "id": "6988132a-7ee9-4b7c-a162-5f879f9d9cc2",
   "metadata": {},
   "outputs": [
    {
     "name": "stdout",
     "output_type": "stream",
     "text": [
      "Overwriting chan.py\n"
     ]
    }
   ],
   "source": [
    "%%writefile chan.py\n",
    "#대소문자 변환 함수\n",
    "def changer(msg) :\n",
    "    result=''\n",
    "    for a in msg :\n",
    "        if a.isupper() : result+=a.lower()\n",
    "        else : result+=a.upper()\n",
    "    print(result)\n",
    "\n",
    "#개수 카운트\n",
    "def counter(msg) :\n",
    "    result_dict={}\n",
    "    for a in msg :\n",
    "        if a in result_dict : result_dict[a]+=1\n",
    "        else : result_dict[a]=1\n",
    "    for a in result_dict :\n",
    "        print('({} : {})'.format(a,result_dict[a]),end=' ')\n",
    "\n",
    "while True :\n",
    "    sentence=input('Input :')\n",
    "    if sentence=='STOP' :\n",
    "        print('Bye')\n",
    "        break\n",
    "    else : changer(sentence) ; counter(sentence)"
   ]
  },
  {
   "cell_type": "code",
   "execution_count": 135,
   "id": "0de00c3c-0799-4a69-be47-3b68151fd0fc",
   "metadata": {},
   "outputs": [
    {
     "name": "stdin",
     "output_type": "stream",
     "text": [
      "Input : hello\n"
     ]
    },
    {
     "name": "stdout",
     "output_type": "stream",
     "text": [
      "HELLO\n",
      "(h : 1) (e : 1) (l : 2) (o : 1) "
     ]
    },
    {
     "name": "stdin",
     "output_type": "stream",
     "text": [
      "Input : OH MY God\n"
     ]
    },
    {
     "name": "stdout",
     "output_type": "stream",
     "text": [
      "oh my gOD\n",
      "(O : 1) (H : 1) (  : 2) (M : 1) (Y : 1) (G : 1) (o : 1) (d : 1) "
     ]
    },
    {
     "name": "stdin",
     "output_type": "stream",
     "text": [
      "Input : STOP\n"
     ]
    },
    {
     "name": "stdout",
     "output_type": "stream",
     "text": [
      "Bye\n"
     ]
    }
   ],
   "source": [
    "%run chan"
   ]
  },
  {
   "cell_type": "code",
   "execution_count": 115,
   "id": "091c337b-e2b6-4d60-95f6-d9d9bacdb179",
   "metadata": {},
   "outputs": [
    {
     "data": {
      "text/plain": [
       "dict"
      ]
     },
     "execution_count": 115,
     "metadata": {},
     "output_type": "execute_result"
    }
   ],
   "source": [
    "asdf={}\n",
    "type(asdf)"
   ]
  },
  {
   "cell_type": "code",
   "execution_count": null,
   "id": "73371d47-d77d-4f6c-a147-d68e8710bcee",
   "metadata": {},
   "outputs": [],
   "source": []
  }
 ],
 "metadata": {
  "kernelspec": {
   "display_name": "Python [conda env:base] *",
   "language": "python",
   "name": "conda-base-py"
  },
  "language_info": {
   "codemirror_mode": {
    "name": "ipython",
    "version": 3
   },
   "file_extension": ".py",
   "mimetype": "text/x-python",
   "name": "python",
   "nbconvert_exporter": "python",
   "pygments_lexer": "ipython3",
   "version": "3.12.7"
  }
 },
 "nbformat": 4,
 "nbformat_minor": 5
}
