{
 "cells": [
  {
   "cell_type": "code",
   "execution_count": 105,
   "id": "dfdcf82a-e6ff-42d0-9c28-649c07234e1e",
   "metadata": {},
   "outputs": [
    {
     "name": "stdout",
     "output_type": "stream",
     "text": [
      "Overwriting chan.py\n"
     ]
    }
   ],
   "source": [
    "%%writefile chan.py\n",
    "\n",
    "def count(w):\n",
    "    lowstr = w.lower()\n",
    "    dict = {}\n",
    "    for x in lowstr:\n",
    "        if x in dict:\n",
    "            dict[x] += 1\n",
    "        else:\n",
    "            dict[x] = 1\n",
    "    for x in dict:\n",
    "        print(\"(\", x, \" : \", dict.get(x), \")\", sep=\"\", end=\"  \")\n",
    "\n",
    "def swap(w):\n",
    "    res = str()\n",
    "    for x in w:\n",
    "        if x.islower():\n",
    "            res += x.upper()\n",
    "        elif x.isupper():\n",
    "            res += x.lower()\n",
    "        else:\n",
    "            res += x\n",
    "    print(res)\n",
    "\n",
    "if __name__ == \"__main__\":\n",
    "    while True:\n",
    "        ready = input(\"Input:\")\n",
    "        if ready == \"STOP\":\n",
    "            print(\"Bye\")\n",
    "            break\n",
    "        else:\n",
    "            count(ready)\n",
    "            print()\n",
    "            swap(ready)"
   ]
  },
  {
   "cell_type": "code",
   "execution_count": 111,
   "id": "5cb1e689-561c-4463-961f-f238777eb251",
   "metadata": {},
   "outputs": [
    {
     "name": "stdin",
     "output_type": "stream",
     "text": [
      "Input: Sogang\n"
     ]
    },
    {
     "name": "stdout",
     "output_type": "stream",
     "text": [
      "(s : 1)  (o : 1)  (g : 2)  (a : 1)  (n : 1)  \n",
      "sOGANG\n"
     ]
    },
    {
     "name": "stdin",
     "output_type": "stream",
     "text": [
      "Input: SOGANG\n"
     ]
    },
    {
     "name": "stdout",
     "output_type": "stream",
     "text": [
      "(s : 1)  (o : 1)  (g : 2)  (a : 1)  (n : 1)  \n",
      "sogang\n"
     ]
    },
    {
     "name": "stdin",
     "output_type": "stream",
     "text": [
      "Input: Univ\n"
     ]
    },
    {
     "name": "stdout",
     "output_type": "stream",
     "text": [
      "(u : 1)  (n : 1)  (i : 1)  (v : 1)  \n",
      "uNIV\n"
     ]
    },
    {
     "name": "stdin",
     "output_type": "stream",
     "text": [
      "Input: Tel\n"
     ]
    },
    {
     "name": "stdout",
     "output_type": "stream",
     "text": [
      "(t : 1)  (e : 1)  (l : 1)  \n",
      "tEL\n"
     ]
    },
    {
     "name": "stdin",
     "output_type": "stream",
     "text": [
      "Input: STOP\n"
     ]
    },
    {
     "name": "stdout",
     "output_type": "stream",
     "text": [
      "Bye\n"
     ]
    }
   ],
   "source": [
    "%run chan.py"
   ]
  },
  {
   "cell_type": "code",
   "execution_count": null,
   "id": "e5261f27-04df-4058-b648-4f77ccd87289",
   "metadata": {},
   "outputs": [],
   "source": []
  }
 ],
 "metadata": {
  "kernelspec": {
   "display_name": "Python [conda env:base] *",
   "language": "python",
   "name": "conda-base-py"
  },
  "language_info": {
   "codemirror_mode": {
    "name": "ipython",
    "version": 3
   },
   "file_extension": ".py",
   "mimetype": "text/x-python",
   "name": "python",
   "nbconvert_exporter": "python",
   "pygments_lexer": "ipython3",
   "version": "3.12.7"
  }
 },
 "nbformat": 4,
 "nbformat_minor": 5
}
