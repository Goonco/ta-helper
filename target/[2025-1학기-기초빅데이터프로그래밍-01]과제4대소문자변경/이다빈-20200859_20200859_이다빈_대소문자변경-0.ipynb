{
 "cells": [
  {
   "cell_type": "code",
   "execution_count": 9,
   "metadata": {},
   "outputs": [
    {
     "name": "stdout",
     "output_type": "stream",
     "text": [
      "Overwriting chan.py\n"
     ]
    }
   ],
   "source": [
    "%%writefile chan.py\n",
    "def cnt_chars(st) :\n",
    "    ch_dict = dict()\n",
    "    st = st.lower()\n",
    "    for ch in st :\n",
    "        cnt = 0\n",
    "        for i in range(len(st)) :\n",
    "            if ch == st[i] :\n",
    "                cnt += 1\n",
    "        ch_dict[ch] = cnt\n",
    "    return ch_dict\n",
    "\n",
    "def flip_case(st) :\n",
    "    swapped=''\n",
    "    for ch in st :\n",
    "        if ch.islower() == True :\n",
    "            swapped += ch.upper()\n",
    "        elif ch == ' ':\n",
    "            swapped += ch\n",
    "        else :\n",
    "            swapped += ch.lower()\n",
    "    return swapped\n",
    "\n",
    "if __name__ == '__main__' :\n",
    "    while True :\n",
    "        user_in = input('input or STOP : ')\n",
    "        print(f\"Input:{user_in}\")\n",
    "        if user_in != 'STOP' :\n",
    "            result = cnt_chars(user_in)\n",
    "            keys = list(result.keys())\n",
    "            for ch in keys :\n",
    "                print(f'({ch} : {result[ch]})', end=' ')\n",
    "            print()\n",
    "            flipped = flip_case(user_in)\n",
    "            print(flipped)\n",
    "        else :\n",
    "            print('Bye')\n",
    "            break"
   ]
  },
  {
   "cell_type": "code",
   "execution_count": 10,
   "metadata": {},
   "outputs": [
    {
     "name": "stdout",
     "output_type": "stream",
     "text": [
      "Input:Sogang\n",
      "(s : 1) (o : 1) (g : 2) (a : 1) (n : 1) \n",
      "sOGANG\n",
      "Input:SOGANG\n",
      "(s : 1) (o : 1) (g : 2) (a : 1) (n : 1) \n",
      "sogang\n",
      "Input:Univ\n",
      "(u : 1) (n : 1) (i : 1) (v : 1) \n",
      "uNIV\n",
      "Input:Tel\n",
      "(t : 1) (e : 1) (l : 1) \n",
      "tEL\n",
      "Input:STOP\n",
      "Bye\n"
     ]
    }
   ],
   "source": [
    "%run chan.py"
   ]
  },
  {
   "cell_type": "code",
   "execution_count": null,
   "metadata": {},
   "outputs": [],
   "source": []
  }
 ],
 "metadata": {
  "kernelspec": {
   "display_name": "Python (Anaconda)",
   "language": "python",
   "name": "anaconda3"
  },
  "language_info": {
   "codemirror_mode": {
    "name": "ipython",
    "version": 3
   },
   "file_extension": ".py",
   "mimetype": "text/x-python",
   "name": "python",
   "nbconvert_exporter": "python",
   "pygments_lexer": "ipython3",
   "version": "3.12.7"
  }
 },
 "nbformat": 4,
 "nbformat_minor": 2
}
