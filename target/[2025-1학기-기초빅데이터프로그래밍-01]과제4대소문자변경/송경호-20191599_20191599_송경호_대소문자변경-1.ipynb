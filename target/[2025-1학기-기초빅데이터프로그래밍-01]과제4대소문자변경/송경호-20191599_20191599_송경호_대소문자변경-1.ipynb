{
 "cells": [
  {
   "cell_type": "code",
   "execution_count": 28,
   "id": "8c4cb6cd-1f9a-4759-add2-15688234152c",
   "metadata": {},
   "outputs": [
    {
     "name": "stdout",
     "output_type": "stream",
     "text": [
      "Overwriting chan.py\n"
     ]
    }
   ],
   "source": [
    "%%writefile chan.py\n",
    "\n",
    "def convertLetterSize(s):\n",
    "    return \"\".join(\n",
    "        chr(ord(c) - ord('a') + ord('A')) if 'a' <= c <= 'z' else\n",
    "        chr(ord(c) - ord('A') + ord('a')) if 'A' <= c <= 'Z' else c\n",
    "        for c in s\n",
    "    )\n",
    "\n",
    "def generateLetterMap(s) :\n",
    "    letterMap = {}\n",
    "    for c in s.lower() : \n",
    "        letterMap[c] = letterMap.get(c,0) + 1\n",
    "    return \"\".join(\n",
    "        [\"({}, {}) \".format(key, val) for key, val in letterMap.items()]\n",
    "    )\n",
    "\n",
    "while True :\n",
    "    s = input(\"Input:\")\n",
    "    if s == \"STOP\" :\n",
    "        print(\"Bye\")\n",
    "        break;\n",
    "    print(generateLetterMap(s))\n",
    "    print(convertLetterSize(s))\n",
    "        "
   ]
  },
  {
   "cell_type": "code",
   "execution_count": null,
   "id": "0bc51310-1138-4b70-8cb2-b25b1a878d1b",
   "metadata": {},
   "outputs": [
    {
     "name": "stdin",
     "output_type": "stream",
     "text": [
      "Input: Sogang\n"
     ]
    },
    {
     "name": "stdout",
     "output_type": "stream",
     "text": [
      "(s, 1) (o, 1) (g, 2) (a, 1) (n, 1) \n",
      "sOGANG\n"
     ]
    }
   ],
   "source": [
    "%run chan.py"
   ]
  }
 ],
 "metadata": {
  "kernelspec": {
   "display_name": "Python 3 (ipykernel)",
   "language": "python",
   "name": "python3"
  },
  "language_info": {
   "codemirror_mode": {
    "name": "ipython",
    "version": 3
   },
   "file_extension": ".py",
   "mimetype": "text/x-python",
   "name": "python",
   "nbconvert_exporter": "python",
   "pygments_lexer": "ipython3",
   "version": "3.13.2"
  }
 },
 "nbformat": 4,
 "nbformat_minor": 5
}
