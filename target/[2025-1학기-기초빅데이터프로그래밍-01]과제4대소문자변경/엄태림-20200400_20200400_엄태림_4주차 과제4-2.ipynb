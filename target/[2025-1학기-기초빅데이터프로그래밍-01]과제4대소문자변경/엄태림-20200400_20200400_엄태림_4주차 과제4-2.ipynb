{
 "cells": [
  {
   "cell_type": "markdown",
   "id": "4ed0ac8d-95e0-42e4-a792-8c8d281ce4d2",
   "metadata": {},
   "source": [
    "입력 받은 문장을 구성하는 각 문자의 개수를 구해 출력하고, 대문자는 소문자로, 소문자는 대문자로 변환하여 출력하는 프로그램을 작성하시오.\n",
    "* 입력 받은 스트링이 “STOP”이면, Bye를 출력하고 종료합니다.\n",
    "* 첨부파일을 참고하세요.\n",
    "* \n",
    "입력받은 문자열에 포함된 문자의 개수를 세는 함수, 대소문자 변환하는 함수, 두 개를 직접 작성해서 포함 시켜 해결하세요.\n",
    "주의사항: 함수를 만들라는 것은 내장함수 swapcase()등을 바로 이용하는 것이 아니라, 그 함수의 내용을 만들어보는 것입니다. 코딩연습을 위해서 user defined function을 만드는 것입니다."
   ]
  },
  {
   "cell_type": "code",
   "execution_count": 24,
   "id": "17f38adf-81f1-4fa0-8499-d10749d4edad",
   "metadata": {},
   "outputs": [
    {
     "name": "stdout",
     "output_type": "stream",
     "text": [
      "Overwriting chan.py\n"
     ]
    }
   ],
   "source": [
    "%%writefile chan.py\n",
    "\n",
    "def letter_counter(line):\n",
    "    l_count = {}\n",
    "    for ch in line:\n",
    "        if ch in l_count:\n",
    "            l_count[ch] += 1\n",
    "        else:\n",
    "            l_count[ch] = 1\n",
    "    return l_count\n",
    "\n",
    "def upper_small_changer(line):\n",
    "    u_s_change = []\n",
    "    for i in range(len(line)):\n",
    "        if 65 <= ord(line[i]) <= 90:\n",
    "            u_s_change.append(chr(ord(line[i]) + 32))\n",
    "        elif 97 <= ord(line[i]) <= 122:\n",
    "            u_s_change.append(chr(ord(line[i]) - 32))\n",
    "    return \"\".join(u_s_change)\n",
    "\n",
    "if __name__ == \"__main__\":\n",
    "    while True:\n",
    "        x = input(\"Input: \")\n",
    "        if x == 'STOP':\n",
    "            print('Bye')\n",
    "            break\n",
    "        else:\n",
    "            l_c = letter_counter(x)\n",
    "            l_u_c = upper_small_changer(x)\n",
    "\n",
    "            for k, v in l_c.items():\n",
    "                print(f'({k} : {v})', end=' ')\n",
    "            print()\n",
    "            print(l_u_c)\n",
    "    "
   ]
  },
  {
   "cell_type": "code",
   "execution_count": 22,
   "id": "325fab85-69c5-44a3-abea-2aefd8cdf8ba",
   "metadata": {},
   "outputs": [
    {
     "name": "stdin",
     "output_type": "stream",
     "text": [
      "Input:  Sogang\n"
     ]
    },
    {
     "name": "stdout",
     "output_type": "stream",
     "text": [
      "(S : 1) (o : 1) (g : 2) (a : 1) (n : 1) \n",
      "sOGANG\n"
     ]
    },
    {
     "name": "stdin",
     "output_type": "stream",
     "text": [
      "Input:  SOGANG\n"
     ]
    },
    {
     "name": "stdout",
     "output_type": "stream",
     "text": [
      "(S : 1) (O : 1) (G : 2) (A : 1) (N : 1) \n",
      "sogang\n"
     ]
    },
    {
     "name": "stdin",
     "output_type": "stream",
     "text": [
      "Input:  UNiv\n"
     ]
    },
    {
     "name": "stdout",
     "output_type": "stream",
     "text": [
      "(U : 1) (N : 1) (i : 1) (v : 1) \n",
      "unIV\n"
     ]
    },
    {
     "name": "stdin",
     "output_type": "stream",
     "text": [
      "Input:  Univ\n"
     ]
    },
    {
     "name": "stdout",
     "output_type": "stream",
     "text": [
      "(U : 1) (n : 1) (i : 1) (v : 1) \n",
      "uNIV\n"
     ]
    },
    {
     "name": "stdin",
     "output_type": "stream",
     "text": [
      "Input:  SOGang\n"
     ]
    },
    {
     "name": "stdout",
     "output_type": "stream",
     "text": [
      "(S : 1) (O : 1) (G : 1) (a : 1) (n : 1) (g : 1) \n",
      "sogANG\n"
     ]
    },
    {
     "name": "stdin",
     "output_type": "stream",
     "text": [
      "Input:  Tel\n"
     ]
    },
    {
     "name": "stdout",
     "output_type": "stream",
     "text": [
      "(T : 1) (e : 1) (l : 1) \n",
      "tEL\n"
     ]
    },
    {
     "name": "stdin",
     "output_type": "stream",
     "text": [
      "Input:  TTTTtttt\n"
     ]
    },
    {
     "name": "stdout",
     "output_type": "stream",
     "text": [
      "(T : 4) (t : 4) \n",
      "ttttTTTT\n"
     ]
    },
    {
     "name": "stdin",
     "output_type": "stream",
     "text": [
      "Input:  STop\n"
     ]
    },
    {
     "name": "stdout",
     "output_type": "stream",
     "text": [
      "(S : 1) (T : 1) (o : 1) (p : 1) \n",
      "stOP\n"
     ]
    },
    {
     "name": "stdin",
     "output_type": "stream",
     "text": [
      "Input:  STOp\n"
     ]
    },
    {
     "name": "stdout",
     "output_type": "stream",
     "text": [
      "(S : 1) (T : 1) (O : 1) (p : 1) \n",
      "stoP\n"
     ]
    },
    {
     "name": "stdin",
     "output_type": "stream",
     "text": [
      "Input:  STOP\n"
     ]
    },
    {
     "name": "stdout",
     "output_type": "stream",
     "text": [
      "Bye\n"
     ]
    }
   ],
   "source": [
    "%run chan.py"
   ]
  },
  {
   "cell_type": "code",
   "execution_count": null,
   "id": "6339e8a1-ee58-4152-9e87-820d08e9bf9e",
   "metadata": {},
   "outputs": [],
   "source": []
  },
  {
   "cell_type": "code",
   "execution_count": null,
   "id": "0a92f713-ce7b-4918-ad33-3bf3257b9d3d",
   "metadata": {},
   "outputs": [],
   "source": []
  }
 ],
 "metadata": {
  "kernelspec": {
   "display_name": "Python [conda env:base] *",
   "language": "python",
   "name": "conda-base-py"
  },
  "language_info": {
   "codemirror_mode": {
    "name": "ipython",
    "version": 3
   },
   "file_extension": ".py",
   "mimetype": "text/x-python",
   "name": "python",
   "nbconvert_exporter": "python",
   "pygments_lexer": "ipython3",
   "version": "3.12.9"
  }
 },
 "nbformat": 4,
 "nbformat_minor": 5
}
