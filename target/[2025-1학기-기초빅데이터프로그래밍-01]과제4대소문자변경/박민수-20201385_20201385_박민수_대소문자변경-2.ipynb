{
 "cells": [
  {
   "cell_type": "code",
   "execution_count": 1,
   "id": "c23a0756-06ec-4609-bbdb-a07d4511e3b9",
   "metadata": {},
   "outputs": [
    {
     "name": "stdout",
     "output_type": "stream",
     "text": [
      "Overwriting change_lc.py\n"
     ]
    }
   ],
   "source": [
    "%%writefile change_lc.py\n",
    "def counting_swap():\n",
    "    while True:\n",
    "        string = input(\"Input :\")\n",
    "        if string == \"STOP\":\n",
    "            print(\"Bye\")\n",
    "            break\n",
    "        else:\n",
    "            counting_dict = {}\n",
    "            for a in string.lower():\n",
    "                if a != \" \":\n",
    "                    counting_dict[a] = counting_dict.get(a, 0) + 1\n",
    "            for key, value in counting_dict.items():\n",
    "                    print(f\"({key} : {value})\", end = \"  \")\n",
    "            print(\"\")\n",
    "            \n",
    "            s_list = list(string)\n",
    "            for i in range(len(s_list)):\n",
    "                if s_list[i].isupper() == True:\n",
    "                    s_list[i] = s_list[i].lower()\n",
    "                else:\n",
    "                    s_list[i] = s_list[i].upper()\n",
    "            print(\"\".join(s_list))\n",
    "\n",
    "if __name__ == \"__main__\":\n",
    "    counting_swap()"
   ]
  },
  {
   "cell_type": "code",
   "execution_count": 2,
   "id": "9a207d70-4d0e-40f5-b4e7-a5183bfa928f",
   "metadata": {},
   "outputs": [
    {
     "name": "stdin",
     "output_type": "stream",
     "text": [
      "Input : Sogang University Assignment\n"
     ]
    },
    {
     "name": "stdout",
     "output_type": "stream",
     "text": [
      "(s : 4)  (o : 1)  (g : 3)  (a : 2)  (n : 4)  (u : 1)  (i : 3)  (v : 1)  (e : 2)  (r : 1)  (t : 2)  (y : 1)  (m : 1)  \n",
      "sOGANG uNIVERSITY aSSIGNMENT\n"
     ]
    },
    {
     "name": "stdin",
     "output_type": "stream",
     "text": [
      "Input : leaVljfvwrA\n"
     ]
    },
    {
     "name": "stdout",
     "output_type": "stream",
     "text": [
      "(l : 2)  (e : 1)  (a : 2)  (v : 2)  (j : 1)  (f : 1)  (w : 1)  (r : 1)  \n",
      "LEAvLJFVWRa\n"
     ]
    },
    {
     "name": "stdin",
     "output_type": "stream",
     "text": [
      "Input : STOP\n"
     ]
    },
    {
     "name": "stdout",
     "output_type": "stream",
     "text": [
      "Bye\n"
     ]
    }
   ],
   "source": [
    "%run change_lc"
   ]
  },
  {
   "cell_type": "code",
   "execution_count": 9,
   "id": "b8e80c80-81f0-4710-968d-58e942aee77a",
   "metadata": {},
   "outputs": [
    {
     "name": "stdout",
     "output_type": "stream",
     "text": [
      "(a : 2)  (b : 2)  (c : 2)  (d : 2)  (e : 2)  (f : 2)  "
     ]
    }
   ],
   "source": [
    "from collections import Counter\n",
    "string = \"aAbBCcDdEfeF\"\n",
    "s_list = sorted(string.lower())\n",
    "for key, val in Counter(s_list).items():\n",
    "    print(f\"({key} : {val})\", end = \"  \")"
   ]
  },
  {
   "cell_type": "code",
   "execution_count": 6,
   "id": "f6b8dfa2-1e04-46cc-81ab-ddd2355e1886",
   "metadata": {},
   "outputs": [
    {
     "name": "stdout",
     "output_type": "stream",
     "text": [
      "aASDVrgaVASbAES\n"
     ]
    }
   ],
   "source": [
    "string = \"AasdvRGAvasBaes\"\n",
    "s_list = list(string)\n",
    "for i in range(len(s_list)):\n",
    "    if s_list[i].isupper() == True:\n",
    "        s_list[i] = s_list[i].lower()\n",
    "    else:\n",
    "        s_list[i] = s_list[i].upper()\n",
    "print(\"\".join(s_list))"
   ]
  },
  {
   "cell_type": "code",
   "execution_count": null,
   "id": "594df707-24dc-4933-ac4b-8ffb84f34c5f",
   "metadata": {},
   "outputs": [],
   "source": []
  }
 ],
 "metadata": {
  "kernelspec": {
   "display_name": "Python 3 (ipykernel)",
   "language": "python",
   "name": "python3"
  },
  "language_info": {
   "codemirror_mode": {
    "name": "ipython",
    "version": 3
   },
   "file_extension": ".py",
   "mimetype": "text/x-python",
   "name": "python",
   "nbconvert_exporter": "python",
   "pygments_lexer": "ipython3",
   "version": "3.12.9"
  }
 },
 "nbformat": 4,
 "nbformat_minor": 5
}
