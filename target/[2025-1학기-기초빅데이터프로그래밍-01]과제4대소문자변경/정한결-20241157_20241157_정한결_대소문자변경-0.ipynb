{
 "cells": [
  {
   "cell_type": "code",
   "execution_count": 1,
   "id": "bc8f1b3f-c48b-4897-9628-57b19d72a71d",
   "metadata": {},
   "outputs": [
    {
     "name": "stdout",
     "output_type": "stream",
     "text": [
      "Writing chan.py\n"
     ]
    }
   ],
   "source": [
    "%%writefile chan.py\n",
    "def swap(sentence):\n",
    "    chars = []\n",
    "    return_str = ''\n",
    "    for char in sentence:\n",
    "        if char.islower():\n",
    "            chars.append(char.upper())\n",
    "        else:\n",
    "            chars.append(char.lower())\n",
    "    return_str = return_str.join(chars)\n",
    "    return return_str\n",
    "\n",
    "def count(sentence):\n",
    "    sentence = sentence.lower()\n",
    "    characters = {}\n",
    "    for char in sentence:\n",
    "        if characters.get(char) != None:\n",
    "            characters[char] += 1\n",
    "        else:\n",
    "            characters.update({char : 1})\n",
    "    return characters\n",
    "\n",
    "def printer(input_string):\n",
    "    strs = []\n",
    "    printer = ''\n",
    "    if input_string == \"STOP\":\n",
    "        print(\"Bye\")\n",
    "        return\n",
    "    else:\n",
    "        for tag, val in count(input_string).items():\n",
    "            strs.append(f\"({tag} : {val}) \")\n",
    "        print(printer.join(strs))\n",
    "        print(swap(input_string))\n",
    "\n",
    "input_str = input(\"Input:\")\n",
    "printer(input_str)"
   ]
  },
  {
   "cell_type": "code",
   "execution_count": 3,
   "id": "436731a8-1a72-4328-8042-c46133406d9b",
   "metadata": {},
   "outputs": [
    {
     "name": "stdin",
     "output_type": "stream",
     "text": [
      "Input: SogangUniv\n"
     ]
    },
    {
     "name": "stdout",
     "output_type": "stream",
     "text": [
      "(s : 1) (o : 1) (g : 2) (a : 1) (n : 2) (u : 1) (i : 1) (v : 1) \n",
      "sOGANGuNIV\n"
     ]
    }
   ],
   "source": [
    "%run chan.py"
   ]
  },
  {
   "cell_type": "code",
   "execution_count": 4,
   "id": "dd96d7c5-20a5-4e5f-b5d5-dca3552efb4a",
   "metadata": {},
   "outputs": [
    {
     "name": "stdin",
     "output_type": "stream",
     "text": [
      "Input: STOP\n"
     ]
    },
    {
     "name": "stdout",
     "output_type": "stream",
     "text": [
      "Bye\n"
     ]
    }
   ],
   "source": [
    "%run chan.py"
   ]
  }
 ],
 "metadata": {
  "kernelspec": {
   "display_name": "Python 3 (ipykernel)",
   "language": "python",
   "name": "python3"
  },
  "language_info": {
   "codemirror_mode": {
    "name": "ipython",
    "version": 3
   },
   "file_extension": ".py",
   "mimetype": "text/x-python",
   "name": "python",
   "nbconvert_exporter": "python",
   "pygments_lexer": "ipython3",
   "version": "3.12.7"
  }
 },
 "nbformat": 4,
 "nbformat_minor": 5
}
