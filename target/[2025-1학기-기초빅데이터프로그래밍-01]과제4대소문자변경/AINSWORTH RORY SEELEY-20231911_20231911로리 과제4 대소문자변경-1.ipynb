{
 "cells": [
  {
   "cell_type": "code",
   "execution_count": 1,
   "id": "a7496cde-8484-4e62-98a3-cdea08f6c4df",
   "metadata": {},
   "outputs": [
    {
     "name": "stdout",
     "output_type": "stream",
     "text": [
      "Overwriting chan.py\n"
     ]
    }
   ],
   "source": [
    "%%writefile chan.py\n",
    "def count_characters(input_string):\n",
    "    # Using a generator function to count the occurrence of each character\n",
    "    character_count = {}\n",
    "    for char in input_string:\n",
    "        if char.isalpha():  # Only consider alphabetic characters\n",
    "            character_count[char] = character_count.get(char, 0) + 1\n",
    "    # Yield each character and its count as a tuple\n",
    "    for char, cnt in character_count.items():\n",
    "        yield (char, cnt)\n",
    "\n",
    "def swap_case(input_string):\n",
    "    # Use lambda to swap case for each character\n",
    "    return ''.join(map(lambda c: c.upper() if c.islower() else c.lower() if c.isupper() else c, input_string))\n",
    "\n",
    "def main():\n",
    "    while True:\n",
    "        inp = input('Input: ')\n",
    "        \n",
    "        # Handle \"STOP\" case\n",
    "        if inp == \"STOP\":\n",
    "            print(\"Bye\")\n",
    "            break\n",
    "        \n",
    "        # Count characters using generator and lambda\n",
    "        character_count_output = \" \".join(\n",
    "            [f\"({char}: {cnt})\" for char, cnt in count_characters(inp)]\n",
    "        )\n",
    "        \n",
    "        # Print the character counts on one line\n",
    "        print(character_count_output)\n",
    "        \n",
    "        # Sort the input string using lambda and print it\n",
    "        sorted_input = ''.join(sorted(inp, key=lambda c: c.lower()))  # Sorting by lowercase for consistency\n",
    "        print(sorted_input)\n",
    "        \n",
    "        # Print swapped case string using the swap_case function\n",
    "        swapped = swap_case(inp)\n",
    "        print(swapped)\n",
    "\n",
    "if __name__ == \"__main__\":\n",
    "    main()"
   ]
  },
  {
   "cell_type": "code",
   "execution_count": 3,
   "id": "e9f2a9e9-9006-42d7-9153-a5040501c1e4",
   "metadata": {},
   "outputs": [
    {
     "name": "stdin",
     "output_type": "stream",
     "text": [
      "Input:  Hello\n"
     ]
    },
    {
     "name": "stdout",
     "output_type": "stream",
     "text": [
      "(H: 1) (e: 1) (l: 2) (o: 1)\n",
      "eHllo\n",
      "hELLO\n"
     ]
    },
    {
     "name": "stdin",
     "output_type": "stream",
     "text": [
      "Input:  Sogang\n"
     ]
    },
    {
     "name": "stdout",
     "output_type": "stream",
     "text": [
      "(S: 1) (o: 1) (g: 2) (a: 1) (n: 1)\n",
      "aggnoS\n",
      "sOGANG\n"
     ]
    },
    {
     "name": "stdin",
     "output_type": "stream",
     "text": [
      "Input:  Uni\n"
     ]
    },
    {
     "name": "stdout",
     "output_type": "stream",
     "text": [
      "(U: 1) (n: 1) (i: 1)\n",
      "inU\n",
      "uNI\n"
     ]
    },
    {
     "name": "stdin",
     "output_type": "stream",
     "text": [
      "Input:  University\n"
     ]
    },
    {
     "name": "stdout",
     "output_type": "stream",
     "text": [
      "(U: 1) (n: 1) (i: 2) (v: 1) (e: 1) (r: 1) (s: 1) (t: 1) (y: 1)\n",
      "eiinrstUvy\n",
      "uNIVERSITY\n"
     ]
    },
    {
     "name": "stdin",
     "output_type": "stream",
     "text": [
      "Input:  STOP\n"
     ]
    },
    {
     "name": "stdout",
     "output_type": "stream",
     "text": [
      "Bye\n"
     ]
    }
   ],
   "source": [
    "%run chan.py"
   ]
  },
  {
   "cell_type": "code",
   "execution_count": null,
   "id": "0f0c8baa-ea9f-462c-85db-b31095ab8a87",
   "metadata": {},
   "outputs": [],
   "source": []
  }
 ],
 "metadata": {
  "kernelspec": {
   "display_name": "Python [conda env:base] *",
   "language": "python",
   "name": "conda-base-py"
  },
  "language_info": {
   "codemirror_mode": {
    "name": "ipython",
    "version": 3
   },
   "file_extension": ".py",
   "mimetype": "text/x-python",
   "name": "python",
   "nbconvert_exporter": "python",
   "pygments_lexer": "ipython3",
   "version": "3.12.7"
  }
 },
 "nbformat": 4,
 "nbformat_minor": 5
}
