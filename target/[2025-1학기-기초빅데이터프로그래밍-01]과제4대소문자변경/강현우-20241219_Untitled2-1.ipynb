{
 "cells": [
  {
   "cell_type": "code",
   "execution_count": 11,
   "id": "74e4518d-08c2-4a64-886f-b67452f8f7ac",
   "metadata": {},
   "outputs": [
    {
     "name": "stdout",
     "output_type": "stream",
     "text": [
      "Overwriting chan.py\n"
     ]
    }
   ],
   "source": [
    "%%writefile chan.py\n",
    "\n",
    "def stringcalculator(string):\n",
    "    textvalue=dict()\n",
    "    for num in range(len(string)):\n",
    "        if ord(string[num])<=ord('Z'):\n",
    "            textvalue[chr(ord(string[num])+32)]=0\n",
    "        else:\n",
    "            textvalue[string[num]]=0\n",
    "    for num in range(len(string)):\n",
    "        if ord(string[num])<=ord('Z'):\n",
    "            textvalue[chr(ord(string[num])+32)]+=1\n",
    "        else:\n",
    "            textvalue[string[num]]+=1\n",
    "    return textvalue\n",
    "   \n",
    "\n",
    "def Aaconverter(string):\n",
    "    string=str(string)\n",
    "    convertedstring=''\n",
    "    for num in range(len(string)):\n",
    "        if ord(string[num])>=ord('a'):\n",
    "            convertedstring+=chr(ord(string[num])-32)\n",
    "        else:\n",
    "            convertedstring+=chr(ord(string[num])+32)\n",
    "    return convertedstring\n",
    "\n",
    "text=''\n",
    "while(True):\n",
    "    text=input('Input:')\n",
    "    if text=='STOP':\n",
    "        print('Bye')\n",
    "        break\n",
    "    else:\n",
    "        print(Aaconverter(text))\n",
    "        print(stringcalculator(text))"
   ]
  },
  {
   "cell_type": "code",
   "execution_count": 12,
   "id": "5ecd10b4-e91d-4fb4-8ad9-39c88c56a664",
   "metadata": {},
   "outputs": [
    {
     "name": "stdin",
     "output_type": "stream",
     "text": [
      "Input: Sogang\n"
     ]
    },
    {
     "name": "stdout",
     "output_type": "stream",
     "text": [
      "sOGANG\n",
      "{'s': 1, 'o': 1, 'g': 2, 'a': 1, 'n': 1}\n"
     ]
    },
    {
     "name": "stdin",
     "output_type": "stream",
     "text": [
      "Input: SOGANG\n"
     ]
    },
    {
     "name": "stdout",
     "output_type": "stream",
     "text": [
      "sogang\n",
      "{'s': 1, 'o': 1, 'g': 2, 'a': 1, 'n': 1}\n"
     ]
    },
    {
     "name": "stdin",
     "output_type": "stream",
     "text": [
      "Input: Univ\n"
     ]
    },
    {
     "name": "stdout",
     "output_type": "stream",
     "text": [
      "uNIV\n",
      "{'u': 1, 'n': 1, 'i': 1, 'v': 1}\n"
     ]
    },
    {
     "name": "stdin",
     "output_type": "stream",
     "text": [
      "Input: Tel\n"
     ]
    },
    {
     "name": "stdout",
     "output_type": "stream",
     "text": [
      "tEL\n",
      "{'t': 1, 'e': 1, 'l': 1}\n"
     ]
    },
    {
     "name": "stdin",
     "output_type": "stream",
     "text": [
      "Input: STOP\n"
     ]
    },
    {
     "name": "stdout",
     "output_type": "stream",
     "text": [
      "Bye\n"
     ]
    }
   ],
   "source": [
    "%run chan.py"
   ]
  },
  {
   "cell_type": "code",
   "execution_count": null,
   "id": "8d0acdff-5b01-45b1-ace0-0894fd27fb25",
   "metadata": {},
   "outputs": [],
   "source": []
  }
 ],
 "metadata": {
  "kernelspec": {
   "display_name": "Python 3 (ipykernel)",
   "language": "python",
   "name": "python3"
  },
  "language_info": {
   "codemirror_mode": {
    "name": "ipython",
    "version": 3
   },
   "file_extension": ".py",
   "mimetype": "text/x-python",
   "name": "python",
   "nbconvert_exporter": "python",
   "pygments_lexer": "ipython3",
   "version": "3.12.2"
  }
 },
 "nbformat": 4,
 "nbformat_minor": 5
}
