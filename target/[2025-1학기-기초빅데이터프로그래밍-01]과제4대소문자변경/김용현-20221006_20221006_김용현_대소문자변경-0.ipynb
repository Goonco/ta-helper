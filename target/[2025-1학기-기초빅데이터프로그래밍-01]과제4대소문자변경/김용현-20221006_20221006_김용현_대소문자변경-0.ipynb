{
 "cells": [
  {
   "cell_type": "code",
   "execution_count": 56,
   "id": "e64fa9df-8db0-4b72-994e-67f96873e1e0",
   "metadata": {},
   "outputs": [
    {
     "name": "stdout",
     "output_type": "stream",
     "text": [
      "Overwriting chan.py\n"
     ]
    }
   ],
   "source": [
    "%%writefile chan.py\n",
    "\n",
    "def whatchar(str1):\n",
    "    str1=str1.lower()\n",
    "    str2=''\n",
    "    for c1 in str1:\n",
    "        if c1 not in str2:\n",
    "            str2+=c1\n",
    "    for c2 in str2:\n",
    "        c_num = 0\n",
    "        for c3 in str1:\n",
    "            if c3==c2: \n",
    "                c_num += 1\n",
    "        print(\"(%s : %d)\"%(c2,c_num),end='  ')\n",
    "\n",
    "def transchar(str1):\n",
    "    str2=''\n",
    "    for c1 in str1:\n",
    "        if c1.isupper():\n",
    "            str2+=c1.lower()\n",
    "        else:\n",
    "            str2+=c1.upper()\n",
    "    return str2\n",
    "\n",
    "str1 = input(\"Input:\")\n",
    "if str1=='STOP':\n",
    "    print('Bye')\n",
    "else:\n",
    "    whatchar(str1)\n",
    "    str2=transchar(str1)\n",
    "    print('\\n'+str2)"
   ]
  },
  {
   "cell_type": "code",
   "execution_count": 62,
   "id": "ea532bf3-b900-4ae5-b4b3-663cf607e447",
   "metadata": {},
   "outputs": [
    {
     "name": "stdin",
     "output_type": "stream",
     "text": [
      "Input: STOP\n"
     ]
    },
    {
     "name": "stdout",
     "output_type": "stream",
     "text": [
      "Bye\n"
     ]
    }
   ],
   "source": [
    "%run chan.py"
   ]
  }
 ],
 "metadata": {
  "kernelspec": {
   "display_name": "Python 3 (ipykernel)",
   "language": "python",
   "name": "python3"
  },
  "language_info": {
   "codemirror_mode": {
    "name": "ipython",
    "version": 3
   },
   "file_extension": ".py",
   "mimetype": "text/x-python",
   "name": "python",
   "nbconvert_exporter": "python",
   "pygments_lexer": "ipython3",
   "version": "3.12.7"
  }
 },
 "nbformat": 4,
 "nbformat_minor": 5
}
