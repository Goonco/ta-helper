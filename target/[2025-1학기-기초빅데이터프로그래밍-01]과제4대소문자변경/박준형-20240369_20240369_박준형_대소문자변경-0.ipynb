{
 "cells": [
  {
   "cell_type": "code",
   "execution_count": 21,
   "id": "105a7041-d515-46f6-97ec-86b4af49e439",
   "metadata": {},
   "outputs": [
    {
     "name": "stdout",
     "output_type": "stream",
     "text": [
      "Overwriting chan.py\n"
     ]
    }
   ],
   "source": [
    "%%writefile chan.py\n",
    "def count_letter(s):\n",
    "    count_dict = {} \n",
    "    order = []     \n",
    "    for char in s:\n",
    "        if 'A' <= char <= 'Z':\n",
    "            lower_char = chr(ord(char) + 32)\n",
    "        else:\n",
    "            lower_char = char\n",
    "\n",
    "        if lower_char not in count_dict:\n",
    "            count_dict[lower_char] = 1\n",
    "            order.append(lower_char)\n",
    "        else:\n",
    "            count_dict[lower_char] += 1\n",
    "    return [(char, count_dict[char]) for char in order]  \n",
    "\n",
    "def swap_letter(s):\n",
    "    result = ''\n",
    "    for char in s:\n",
    "        if 'a' <= char <= 'z':\n",
    "            result += chr(ord(char) - 32)\n",
    "        elif 'A' <= char <= 'Z':\n",
    "            result += chr(ord(char) + 32)\n",
    "        else:\n",
    "            result += char\n",
    "    return result\n",
    "\n",
    "def main():\n",
    "    while True:\n",
    "        a = input(\"Input:\")\n",
    "        if a == \"STOP\":\n",
    "            print(\"Bye\")\n",
    "            break\n",
    "        counts = count_letter(a)\n",
    "        for char, count in counts:\n",
    "            print(f\"({char} : {count})\", end=' ')\n",
    "        print()\n",
    "        print(swap_letter(a))\n",
    "main()"
   ]
  },
  {
   "cell_type": "code",
   "execution_count": 22,
   "id": "2ab08524-edf1-40b3-aad0-b53504e973a9",
   "metadata": {},
   "outputs": [
    {
     "name": "stdin",
     "output_type": "stream",
     "text": [
      "Input: Sogang\n"
     ]
    },
    {
     "name": "stdout",
     "output_type": "stream",
     "text": [
      "(s : 1) (o : 1) (g : 2) (a : 1) (n : 1) \n",
      "sOGANG\n"
     ]
    },
    {
     "name": "stdin",
     "output_type": "stream",
     "text": [
      "Input: SOGANG\n"
     ]
    },
    {
     "name": "stdout",
     "output_type": "stream",
     "text": [
      "(s : 1) (o : 1) (g : 2) (a : 1) (n : 1) \n",
      "sogang\n"
     ]
    },
    {
     "name": "stdin",
     "output_type": "stream",
     "text": [
      "Input: Univ\n"
     ]
    },
    {
     "name": "stdout",
     "output_type": "stream",
     "text": [
      "(u : 1) (n : 1) (i : 1) (v : 1) \n",
      "uNIV\n"
     ]
    },
    {
     "name": "stdin",
     "output_type": "stream",
     "text": [
      "Input: Tel\n"
     ]
    },
    {
     "name": "stdout",
     "output_type": "stream",
     "text": [
      "(t : 1) (e : 1) (l : 1) \n",
      "tEL\n"
     ]
    },
    {
     "name": "stdin",
     "output_type": "stream",
     "text": [
      "Input: STOP\n"
     ]
    },
    {
     "name": "stdout",
     "output_type": "stream",
     "text": [
      "Bye\n"
     ]
    }
   ],
   "source": [
    "%run chan.py"
   ]
  },
  {
   "cell_type": "code",
   "execution_count": null,
   "id": "9408cf4e-c70e-49e3-88ec-1ada430af637",
   "metadata": {},
   "outputs": [],
   "source": []
  }
 ],
 "metadata": {
  "kernelspec": {
   "display_name": "Python 3 (ipykernel)",
   "language": "python",
   "name": "python3"
  },
  "language_info": {
   "codemirror_mode": {
    "name": "ipython",
    "version": 3
   },
   "file_extension": ".py",
   "mimetype": "text/x-python",
   "name": "python",
   "nbconvert_exporter": "python",
   "pygments_lexer": "ipython3",
   "version": "3.12.7"
  }
 },
 "nbformat": 4,
 "nbformat_minor": 5
}
