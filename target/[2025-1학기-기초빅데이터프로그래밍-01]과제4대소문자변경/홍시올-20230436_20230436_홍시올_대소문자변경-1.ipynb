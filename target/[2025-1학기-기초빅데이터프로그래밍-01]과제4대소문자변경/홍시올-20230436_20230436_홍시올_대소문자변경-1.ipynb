{
 "cells": [
  {
   "cell_type": "code",
   "execution_count": 61,
   "id": "abd788c1-6bca-4489-b1ff-f286056925eb",
   "metadata": {},
   "outputs": [
    {
     "name": "stdout",
     "output_type": "stream",
     "text": [
      "Writing chan.py\n"
     ]
    }
   ],
   "source": [
    "%%writefile chan.py\n",
    "\n",
    "while True:\n",
    "    x=input(\"input:\")\n",
    "    \n",
    "    if x==\"STOP\": \n",
    "        print(\"Bye\")\n",
    "        break\n",
    "\n",
    "    dic={}\n",
    "    \n",
    "    alp={'a': 'A', 'b': 'B', 'c': 'C', 'd': 'D', 'e': 'E', 'f': 'F', 'g': 'G', 'h': 'H',\n",
    "        'i': 'I', 'j': 'J', 'k': 'K', 'l': 'L', 'm': 'M', 'n': 'N', 'o': 'O', 'p': 'P',\n",
    "        'q': 'Q', 'r': 'R', 's': 'S', 't': 'T', 'u': 'U', 'v': 'V', 'w': 'W', 'x': 'X',\n",
    "        'y': 'Y', 'z': 'Z'}\n",
    "    ALP={'A': 'a', 'B': 'b', 'C': 'c', 'D': 'd', 'E': 'e', 'F': 'f', 'G': 'g', 'H': 'h',\n",
    "        'I': 'i', 'J': 'j', 'K': 'k', 'L': 'l', 'M': 'm', 'N': 'n', 'O': 'o', 'P': 'p',\n",
    "        'Q': 'q', 'R': 'r', 'S': 's', 'T': 't', 'U': 'u', 'V': 'v', 'W': 'w', 'X': 'x',\n",
    "        'Y': 'y', 'Z': 'z'}\n",
    "    \n",
    "    for i in range(len(x)):\n",
    "        if x[i] not in dic:\n",
    "            dic[x[i]]=1\n",
    "        elif x[i] in dic:\n",
    "            dic[x[i]]+=1\n",
    "    \n",
    "    dic_keys=list(dic.keys())\n",
    "    dic_values=list(dic.values())\n",
    "    \n",
    "    for i in range(len(dic_keys)):\n",
    "        print(\"(\",dic_keys[i], \":\", dic_values[i],\")\", end=\"  \")\n",
    "    \n",
    "    x=list(x)\n",
    "    print()\n",
    "    \n",
    "    for i in range(len(x)):\n",
    "        if x[i] in alp: \n",
    "            x[i] = alp[x[i]]  \n",
    "        elif x[i] in ALP:  \n",
    "            x[i] = ALP[x[i]]\n",
    "        print(x[i], end=\"\")\n",
    "        i+=1\n"
   ]
  },
  {
   "cell_type": "code",
   "execution_count": 63,
   "id": "7c12c3f3-0ffd-4e64-bddf-fb213a9471bd",
   "metadata": {},
   "outputs": [
    {
     "name": "stdin",
     "output_type": "stream",
     "text": [
      "input: Sogang\n"
     ]
    },
    {
     "name": "stdout",
     "output_type": "stream",
     "text": [
      "( S : 1 )  ( o : 1 )  ( g : 2 )  ( a : 1 )  ( n : 1 )  \n",
      "sOGANG"
     ]
    },
    {
     "name": "stdin",
     "output_type": "stream",
     "text": [
      "input: SOGANG\n"
     ]
    },
    {
     "name": "stdout",
     "output_type": "stream",
     "text": [
      "( S : 1 )  ( O : 1 )  ( G : 2 )  ( A : 1 )  ( N : 1 )  \n",
      "sogang"
     ]
    },
    {
     "name": "stdin",
     "output_type": "stream",
     "text": [
      "input: Univ\n"
     ]
    },
    {
     "name": "stdout",
     "output_type": "stream",
     "text": [
      "( U : 1 )  ( n : 1 )  ( i : 1 )  ( v : 1 )  \n",
      "uNIV"
     ]
    },
    {
     "name": "stdin",
     "output_type": "stream",
     "text": [
      "input: Tel\n"
     ]
    },
    {
     "name": "stdout",
     "output_type": "stream",
     "text": [
      "( T : 1 )  ( e : 1 )  ( l : 1 )  \n",
      "tEL"
     ]
    },
    {
     "name": "stdin",
     "output_type": "stream",
     "text": [
      "input: STOP\n"
     ]
    },
    {
     "name": "stdout",
     "output_type": "stream",
     "text": [
      "Bye\n"
     ]
    }
   ],
   "source": [
    "%run chan.py"
   ]
  },
  {
   "cell_type": "code",
   "execution_count": null,
   "id": "6b4aa110-ca10-42f7-9806-164c5b1c41b4",
   "metadata": {},
   "outputs": [],
   "source": []
  }
 ],
 "metadata": {
  "kernelspec": {
   "display_name": "Python 3 (ipykernel)",
   "language": "python",
   "name": "python3"
  },
  "language_info": {
   "codemirror_mode": {
    "name": "ipython",
    "version": 3
   },
   "file_extension": ".py",
   "mimetype": "text/x-python",
   "name": "python",
   "nbconvert_exporter": "python",
   "pygments_lexer": "ipython3",
   "version": "3.12.7"
  }
 },
 "nbformat": 4,
 "nbformat_minor": 5
}
