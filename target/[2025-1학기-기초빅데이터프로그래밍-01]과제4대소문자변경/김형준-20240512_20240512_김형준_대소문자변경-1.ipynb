{
 "cells": [
  {
   "cell_type": "code",
   "execution_count": 91,
   "id": "8fb76a27-0858-4f54-b724-cb7da0c9caf1",
   "metadata": {},
   "outputs": [
    {
     "name": "stdout",
     "output_type": "stream",
     "text": [
      "Overwriting chan.py\n"
     ]
    }
   ],
   "source": [
    "%%writefile chan.py\n",
    "\n",
    "def Make_Small(str):\n",
    "    result = \"\"\n",
    "    for alp in str:\n",
    "        if 'A' <= alp <= 'Z':\n",
    "            result +=chr(ord(alp) + 32)\n",
    "        else :\n",
    "            result += alp\n",
    "    return result\n",
    "\n",
    "def Count_func(str):\n",
    "    str = Make_Small(str)\n",
    "    dic = {}\n",
    "    for alp in str:\n",
    "        if alp in dic:\n",
    "            dic[alp] +=1\n",
    "        else :\n",
    "            dic[alp] = 1\n",
    "    key = list(dic.keys())\n",
    "    value = list(dic.values())\n",
    "    for i in range(len(key)):\n",
    "        print(\"({} : {})\".format(key[i],value[i]),end=' ')\n",
    "\n",
    "def Change_func(str):\n",
    "    result = \"\"\n",
    "    for alp in str:\n",
    "        if 'A' <= alp <= 'Z':\n",
    "            result +=chr(ord(alp) + 32)\n",
    "        else :\n",
    "            result += chr(ord(alp) - 32)\n",
    "    print(\"\")\n",
    "    print(result)\n",
    "\n",
    "\n",
    "if __name__ == \"__main__\":\n",
    "    while True:\n",
    "        str = input(\"Input:\")\n",
    "        if str == \"STOP\":\n",
    "            print(\"Bye\")\n",
    "            break\n",
    "        Count_func(str)\n",
    "        Change_func(str)\n",
    "        \n"
   ]
  },
  {
   "cell_type": "code",
   "execution_count": 93,
   "id": "5ea6013e-efdd-4ed1-b886-1c5b60008037",
   "metadata": {},
   "outputs": [
    {
     "name": "stdin",
     "output_type": "stream",
     "text": [
      "Input: Sogang\n"
     ]
    },
    {
     "name": "stdout",
     "output_type": "stream",
     "text": [
      "(s : 1) (o : 1) (g : 2) (a : 1) (n : 1) \n",
      "sOGANG\n"
     ]
    },
    {
     "name": "stdin",
     "output_type": "stream",
     "text": [
      "Input: SOGANG\n"
     ]
    },
    {
     "name": "stdout",
     "output_type": "stream",
     "text": [
      "(s : 1) (o : 1) (g : 2) (a : 1) (n : 1) \n",
      "sogang\n"
     ]
    },
    {
     "name": "stdin",
     "output_type": "stream",
     "text": [
      "Input: Univ\n"
     ]
    },
    {
     "name": "stdout",
     "output_type": "stream",
     "text": [
      "(u : 1) (n : 1) (i : 1) (v : 1) \n",
      "uNIV\n"
     ]
    },
    {
     "name": "stdin",
     "output_type": "stream",
     "text": [
      "Input: Tel\n"
     ]
    },
    {
     "name": "stdout",
     "output_type": "stream",
     "text": [
      "(t : 1) (e : 1) (l : 1) \n",
      "tEL\n"
     ]
    },
    {
     "name": "stdin",
     "output_type": "stream",
     "text": [
      "Input: STOP\n"
     ]
    },
    {
     "name": "stdout",
     "output_type": "stream",
     "text": [
      "Bye\n"
     ]
    }
   ],
   "source": [
    "%run chan.py"
   ]
  }
 ],
 "metadata": {
  "kernelspec": {
   "display_name": "Python [conda env:base] *",
   "language": "python",
   "name": "conda-base-py"
  },
  "language_info": {
   "codemirror_mode": {
    "name": "ipython",
    "version": 3
   },
   "file_extension": ".py",
   "mimetype": "text/x-python",
   "name": "python",
   "nbconvert_exporter": "python",
   "pygments_lexer": "ipython3",
   "version": "3.12.7"
  }
 },
 "nbformat": 4,
 "nbformat_minor": 5
}
