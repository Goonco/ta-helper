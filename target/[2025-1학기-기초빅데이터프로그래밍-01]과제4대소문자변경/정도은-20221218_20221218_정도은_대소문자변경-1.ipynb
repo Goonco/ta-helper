{
 "cells": [
  {
   "cell_type": "code",
   "execution_count": 1,
   "id": "095117b0-09a0-48d9-a4be-f9565f78fff0",
   "metadata": {},
   "outputs": [
    {
     "name": "stdout",
     "output_type": "stream",
     "text": [
      "Overwriting chan.py\n"
     ]
    }
   ],
   "source": [
    "%%writefile chan.py\n",
    "\n",
    "while 1:\n",
    "    inp = input(\"Input:\")\n",
    "    if inp == 'STOP':\n",
    "        print('Bye')\n",
    "        break\n",
    "    else:\n",
    "        dic={}\n",
    "        new = inp.lower()\n",
    "        for _ in range (len(new)):\n",
    "            if new[_] in dic:\n",
    "                dic[new[_]] = dic[new[_]]+1\n",
    "            else:\n",
    "                dic[new[_]] = 1\n",
    "        for i in dic:\n",
    "            print(\"(%s : %d)\" %(i, dic[i]), end=\"  \")\n",
    "        print(\"\")\n",
    "    for i in inp:\n",
    "        if i.islower():\n",
    "            print(i.upper().rstrip(), end=\"\")\n",
    "        else:\n",
    "            print(i.lower().rstrip(), end=\"\")\n",
    "    print(\"\")"
   ]
  },
  {
   "cell_type": "code",
   "execution_count": 3,
   "id": "5be1745c-7f74-4398-9e52-0f1f6c2b4d54",
   "metadata": {},
   "outputs": [
    {
     "name": "stdin",
     "output_type": "stream",
     "text": [
      "Input: Sogang\n"
     ]
    },
    {
     "name": "stdout",
     "output_type": "stream",
     "text": [
      "(s : 1)  (o : 1)  (g : 2)  (a : 1)  (n : 1)  \n",
      "sOGANG\n"
     ]
    },
    {
     "name": "stdin",
     "output_type": "stream",
     "text": [
      "Input: SOGANG\n"
     ]
    },
    {
     "name": "stdout",
     "output_type": "stream",
     "text": [
      "(s : 1)  (o : 1)  (g : 2)  (a : 1)  (n : 1)  \n",
      "sogang\n"
     ]
    },
    {
     "name": "stdin",
     "output_type": "stream",
     "text": [
      "Input: Univ\n"
     ]
    },
    {
     "name": "stdout",
     "output_type": "stream",
     "text": [
      "(u : 1)  (n : 1)  (i : 1)  (v : 1)  \n",
      "uNIV\n"
     ]
    },
    {
     "name": "stdin",
     "output_type": "stream",
     "text": [
      "Input: Tel\n"
     ]
    },
    {
     "name": "stdout",
     "output_type": "stream",
     "text": [
      "(t : 1)  (e : 1)  (l : 1)  \n",
      "tEL\n"
     ]
    },
    {
     "name": "stdin",
     "output_type": "stream",
     "text": [
      "Input: STOP\n"
     ]
    },
    {
     "name": "stdout",
     "output_type": "stream",
     "text": [
      "Bye\n"
     ]
    }
   ],
   "source": [
    "%run chan.py"
   ]
  },
  {
   "cell_type": "code",
   "execution_count": null,
   "id": "07da96c2-5021-4e9b-b8c3-9c46aed08916",
   "metadata": {},
   "outputs": [],
   "source": []
  }
 ],
 "metadata": {
  "kernelspec": {
   "display_name": "Python 3 (ipykernel)",
   "language": "python",
   "name": "python3"
  },
  "language_info": {
   "codemirror_mode": {
    "name": "ipython",
    "version": 3
   },
   "file_extension": ".py",
   "mimetype": "text/x-python",
   "name": "python",
   "nbconvert_exporter": "python",
   "pygments_lexer": "ipython3",
   "version": "3.12.4"
  }
 },
 "nbformat": 4,
 "nbformat_minor": 5
}
