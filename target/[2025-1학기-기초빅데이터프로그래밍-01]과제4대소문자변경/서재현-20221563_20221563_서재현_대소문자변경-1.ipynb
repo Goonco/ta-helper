{
 "cells": [
  {
   "cell_type": "code",
   "execution_count": 6,
   "id": "635918de-697b-4aae-8f9e-64d66cb69a7d",
   "metadata": {},
   "outputs": [
    {
     "name": "stdin",
     "output_type": "stream",
     "text": [
      "Input: Sogang\n"
     ]
    },
    {
     "name": "stdout",
     "output_type": "stream",
     "text": [
      "(s : 1) (o : 1) (g : 2) (a : 1) (n : 1) \n",
      "sOGANG\n"
     ]
    },
    {
     "name": "stdin",
     "output_type": "stream",
     "text": [
      "Input: SOGANG\n"
     ]
    },
    {
     "name": "stdout",
     "output_type": "stream",
     "text": [
      "(s : 1) (o : 1) (g : 2) (a : 1) (n : 1) \n",
      "sogang\n"
     ]
    },
    {
     "name": "stdin",
     "output_type": "stream",
     "text": [
      "Input: Univ\n"
     ]
    },
    {
     "name": "stdout",
     "output_type": "stream",
     "text": [
      "(u : 1) (n : 1) (i : 1) (v : 1) \n",
      "uNIV\n"
     ]
    },
    {
     "name": "stdin",
     "output_type": "stream",
     "text": [
      "Input: Tel\n"
     ]
    },
    {
     "name": "stdout",
     "output_type": "stream",
     "text": [
      "(t : 1) (e : 1) (l : 1) \n",
      "tEL\n"
     ]
    },
    {
     "name": "stdin",
     "output_type": "stream",
     "text": [
      "Input: STOP\n"
     ]
    },
    {
     "name": "stdout",
     "output_type": "stream",
     "text": [
      "Bye\n"
     ]
    }
   ],
   "source": [
    "while True:\n",
    "    text = input(\"Input:\")\n",
    "    \n",
    "    if text == \"STOP\":\n",
    "        print(\"Bye\")\n",
    "        break\n",
    "\n",
    "    countingDict = {}\n",
    "    changeList = []\n",
    "    for i in text:\n",
    "        if i.lower() in countingDict:\n",
    "            countingDict[i.lower()] += 1\n",
    "        else:\n",
    "            countingDict[i.lower()] = 1\n",
    "\n",
    "        if i.isupper():\n",
    "            changeList.append(i.lower())\n",
    "        elif i.islower():\n",
    "            changeList.append(i.upper())\n",
    "\n",
    "    for item in countingDict.keys():\n",
    "        print(\"({} : {})\".format(item,countingDict[item]), end = \" \")\n",
    "        \n",
    "    print(\"\\n\"+''.join(changeList))"
   ]
  }
 ],
 "metadata": {
  "kernelspec": {
   "display_name": "Python 3 (ipykernel)",
   "language": "python",
   "name": "python3"
  },
  "language_info": {
   "codemirror_mode": {
    "name": "ipython",
    "version": 3
   },
   "file_extension": ".py",
   "mimetype": "text/x-python",
   "name": "python",
   "nbconvert_exporter": "python",
   "pygments_lexer": "ipython3",
   "version": "3.12.7"
  }
 },
 "nbformat": 4,
 "nbformat_minor": 5
}
