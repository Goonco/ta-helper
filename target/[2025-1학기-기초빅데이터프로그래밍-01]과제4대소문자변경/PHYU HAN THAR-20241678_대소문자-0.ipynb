{
 "cells": [
  {
   "cell_type": "code",
   "execution_count": null,
   "id": "22389023-2028-4abb-b182-e1edaade7105",
   "metadata": {},
   "outputs": [
    {
     "name": "stdin",
     "output_type": "stream",
     "text": [
      "Input:  Sogang\n"
     ]
    },
    {
     "name": "stdout",
     "output_type": "stream",
     "text": [
      "(s : 1) (o : 1) (g : 2) (a : 1) (n : 1)\n",
      "sOGANG\n"
     ]
    },
    {
     "name": "stdin",
     "output_type": "stream",
     "text": [
      "Input:  Bye\n"
     ]
    },
    {
     "name": "stdout",
     "output_type": "stream",
     "text": [
      "(b : 1) (y : 1) (e : 1)\n",
      "bYE\n"
     ]
    },
    {
     "name": "stdin",
     "output_type": "stream",
     "text": [
      "Input:  Phyu Han Thar\n"
     ]
    },
    {
     "name": "stdout",
     "output_type": "stream",
     "text": [
      "(p : 1) (h : 3) (y : 1) (u : 1) (a : 2) (n : 1) (t : 1) (r : 1)\n",
      "pHYU hAN tHAR\n"
     ]
    },
    {
     "name": "stdin",
     "output_type": "stream",
     "text": [
      "Input:  True\n"
     ]
    },
    {
     "name": "stdout",
     "output_type": "stream",
     "text": [
      "(t : 1) (r : 1) (u : 1) (e : 1)\n",
      "tRUE\n"
     ]
    }
   ],
   "source": [
    "from collections import Counter\n",
    "\n",
    "def count_chars(s):\n",
    "    \"\"\"문자열에서 각 문자의 개수를 세어 딕셔너리로 반환\"\"\"\n",
    "    s_lower = [char.lower() for char in s if char.isalpha()]  # 알파벳만 카운트\n",
    "    return Counter(s_lower)  # Counter를 사용하여 문자 개수 계산\n",
    "\n",
    "def swap_case_manual(s):\n",
    "    \"\"\"대문자는 소문자로, 소문자는 대문자로 변환\"\"\"\n",
    "    return \"\".join(\n",
    "        chr(ord(c) - 32) if \"a\" <= c <= \"z\" else \n",
    "        chr(ord(c) + 32) if \"A\" <= c <= \"Z\" else c\n",
    "        for c in s\n",
    "    )\n",
    "\n",
    "# 메인 실행 루프\n",
    "while True:\n",
    "    user_input = input(\"Input: \")\n",
    "\n",
    "    if user_input == \"STOP\":\n",
    "        print(\"Bye\")\n",
    "        break\n",
    "\n",
    "    # 문자 개수 세기\n",
    "    char_counts = count_chars(user_input)\n",
    "    print(\" \".join(f\"({char} : {count})\" for char, count in char_counts.items()))\n",
    "\n",
    "    # 대소문자 변환 후 출력\n",
    "    print(swap_case_manual(user_input))\n"
   ]
  },
  {
   "cell_type": "code",
   "execution_count": null,
   "id": "32a47781-bf56-466b-808c-f718cd8c085a",
   "metadata": {},
   "outputs": [],
   "source": []
  }
 ],
 "metadata": {
  "kernelspec": {
   "display_name": "Python 3 (ipykernel)",
   "language": "python",
   "name": "python3"
  },
  "language_info": {
   "codemirror_mode": {
    "name": "ipython",
    "version": 3
   },
   "file_extension": ".py",
   "mimetype": "text/x-python",
   "name": "python",
   "nbconvert_exporter": "python",
   "pygments_lexer": "ipython3",
   "version": "3.13.2"
  }
 },
 "nbformat": 4,
 "nbformat_minor": 5
}
