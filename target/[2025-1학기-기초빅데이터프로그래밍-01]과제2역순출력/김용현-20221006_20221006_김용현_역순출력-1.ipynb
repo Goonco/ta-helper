{
 "cells": [
  {
   "cell_type": "code",
   "execution_count": 6,
   "id": "ef9d9796-f8e9-452f-9191-091882babb14",
   "metadata": {},
   "outputs": [
    {
     "name": "stdout",
     "output_type": "stream",
     "text": [
      "Overwriting inversIn.py\n"
     ]
    }
   ],
   "source": [
    "%%writefile inversIn.py\n",
    "a = input(\"Input :\")\n",
    "print('\\n')\n",
    "la = len(a)\n",
    "for i in range(la):\n",
    "    print(a[i::-1])"
   ]
  },
  {
   "cell_type": "code",
   "execution_count": 7,
   "id": "daac619f-667c-4552-b40f-4c5500337c1b",
   "metadata": {},
   "outputs": [
    {
     "name": "stdin",
     "output_type": "stream",
     "text": [
      "Input : Sogang University\n"
     ]
    },
    {
     "name": "stdout",
     "output_type": "stream",
     "text": [
      "\n",
      "\n",
      "S\n",
      "oS\n",
      "goS\n",
      "agoS\n",
      "nagoS\n",
      "gnagoS\n",
      " gnagoS\n",
      "U gnagoS\n",
      "nU gnagoS\n",
      "inU gnagoS\n",
      "vinU gnagoS\n",
      "evinU gnagoS\n",
      "revinU gnagoS\n",
      "srevinU gnagoS\n",
      "isrevinU gnagoS\n",
      "tisrevinU gnagoS\n",
      "ytisrevinU gnagoS\n"
     ]
    }
   ],
   "source": [
    "%run inversIn.py"
   ]
  }
 ],
 "metadata": {
  "kernelspec": {
   "display_name": "Python 3 (ipykernel)",
   "language": "python",
   "name": "python3"
  },
  "language_info": {
   "codemirror_mode": {
    "name": "ipython",
    "version": 3
   },
   "file_extension": ".py",
   "mimetype": "text/x-python",
   "name": "python",
   "nbconvert_exporter": "python",
   "pygments_lexer": "ipython3",
   "version": "3.12.7"
  }
 },
 "nbformat": 4,
 "nbformat_minor": 5
}
