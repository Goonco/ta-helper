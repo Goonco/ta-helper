{
 "cells": [
  {
   "cell_type": "code",
   "execution_count": 1,
   "id": "0a9e99ae-98ed-4663-b65a-5885b9c03fdf",
   "metadata": {},
   "outputs": [
    {
     "name": "stdin",
     "output_type": "stream",
     "text": [
      "input: sogang university\n"
     ]
    },
    {
     "name": "stdout",
     "output_type": "stream",
     "text": [
      "s\n",
      "os\n",
      "gos\n",
      "agos\n",
      "nagos\n",
      "gnagos\n",
      " gnagos\n",
      "u gnagos\n",
      "nu gnagos\n",
      "inu gnagos\n",
      "vinu gnagos\n",
      "evinu gnagos\n",
      "revinu gnagos\n",
      "srevinu gnagos\n",
      "isrevinu gnagos\n",
      "tisrevinu gnagos\n",
      "ytisrevinu gnagos\n"
     ]
    }
   ],
   "source": [
    "text=input('input:')\n",
    "textind=0\n",
    "temp=0\n",
    "printtext=''\n",
    "temptext=''\n",
    "while textind<len(text):\n",
    "    while temp<=textind:\n",
    "        temptext=text[textind-temp]\n",
    "        printtext=printtext+temptext\n",
    "        temp=temp+1\n",
    "    textind=textind+1\n",
    "    temp=0\n",
    "    print(printtext)\n",
    "    printtext=''"
   ]
  },
  {
   "cell_type": "code",
   "execution_count": null,
   "id": "3ccfeccd-22eb-44e6-b1de-a984114fa60d",
   "metadata": {},
   "outputs": [],
   "source": []
  }
 ],
 "metadata": {
  "kernelspec": {
   "display_name": "Python 3 (ipykernel)",
   "language": "python",
   "name": "python3"
  },
  "language_info": {
   "codemirror_mode": {
    "name": "ipython",
    "version": 3
   },
   "file_extension": ".py",
   "mimetype": "text/x-python",
   "name": "python",
   "nbconvert_exporter": "python",
   "pygments_lexer": "ipython3",
   "version": "3.12.4"
  }
 },
 "nbformat": 4,
 "nbformat_minor": 5
}
