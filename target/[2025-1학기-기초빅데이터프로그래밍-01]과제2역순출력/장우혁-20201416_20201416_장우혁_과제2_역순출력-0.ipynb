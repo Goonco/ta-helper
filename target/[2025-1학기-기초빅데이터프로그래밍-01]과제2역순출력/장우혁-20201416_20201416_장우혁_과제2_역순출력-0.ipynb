{
 "cells": [
  {
   "cell_type": "code",
   "execution_count": 1,
   "id": "3587c9ca-5d01-41d3-9e70-d2e19ef80740",
   "metadata": {},
   "outputs": [
    {
     "name": "stdout",
     "output_type": "stream",
     "text": [
      "Overwriting inverseIn.py\n"
     ]
    }
   ],
   "source": [
    "%%writefile inverseIn.py\n",
    "\n",
    "word=input(\"Input :\")\n",
    "for i in range(0,len(word)+1):\n",
    "    Word=word[:i]\n",
    "    print(Word[::-1])\n"
   ]
  },
  {
   "cell_type": "code",
   "execution_count": 3,
   "id": "ed77a631-7245-4ffc-ba72-27936f5b250c",
   "metadata": {},
   "outputs": [
    {
     "name": "stdout",
     "output_type": "stream",
     "text": [
      "Input : Sogang University\n"
     ]
    },
    {
     "name": "stdout",
     "output_type": "stream",
     "text": [
      "\n",
      "S\n",
      "oS\n",
      "goS\n",
      "agoS\n",
      "nagoS\n",
      "gnagoS\n",
      " gnagoS\n",
      "U gnagoS\n",
      "nU gnagoS\n",
      "inU gnagoS\n",
      "vinU gnagoS\n",
      "evinU gnagoS\n",
      "revinU gnagoS\n",
      "srevinU gnagoS\n",
      "isrevinU gnagoS\n",
      "tisrevinU gnagoS\n",
      "ytisrevinU gnagoS\n"
     ]
    }
   ],
   "source": [
    "%run inverseIn.py"
   ]
  },
  {
   "cell_type": "code",
   "execution_count": null,
   "id": "dd941121-0715-43a8-814f-73287eab7071",
   "metadata": {},
   "outputs": [],
   "source": []
  }
 ],
 "metadata": {
  "kernelspec": {
   "display_name": "Python [conda env:base] *",
   "language": "python",
   "name": "conda-base-py"
  },
  "language_info": {
   "codemirror_mode": {
    "name": "ipython",
    "version": 3
   },
   "file_extension": ".py",
   "mimetype": "text/x-python",
   "name": "python",
   "nbconvert_exporter": "python",
   "pygments_lexer": "ipython3",
   "version": "3.12.7"
  }
 },
 "nbformat": 4,
 "nbformat_minor": 5
}
