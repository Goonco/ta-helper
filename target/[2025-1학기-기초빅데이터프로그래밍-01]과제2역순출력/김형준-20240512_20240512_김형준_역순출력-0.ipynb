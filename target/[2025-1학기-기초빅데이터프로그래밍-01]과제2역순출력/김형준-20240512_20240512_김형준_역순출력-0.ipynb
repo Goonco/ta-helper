{
 "cells": [
  {
   "cell_type": "code",
   "execution_count": 78,
   "id": "00224647-9a0f-47b4-b806-b4c1512a1506",
   "metadata": {},
   "outputs": [
    {
     "name": "stdout",
     "output_type": "stream",
     "text": [
      "Overwriting inverseIn.py\n"
     ]
    }
   ],
   "source": [
    "%%writefile inverseIn.py\n",
    "\n",
    "s = input(\"Input :\")\n",
    "re = \"\"\n",
    "for alp in s:\n",
    "    print(re)\n",
    "    re = alp + re\n",
    "print(re)\n"
   ]
  },
  {
   "cell_type": "code",
   "execution_count": 80,
   "id": "fb56017c-3610-459b-afe6-bf27e8c6c3d4",
   "metadata": {},
   "outputs": [
    {
     "name": "stdin",
     "output_type": "stream",
     "text": [
      "Input : Sogang University\n"
     ]
    },
    {
     "name": "stdout",
     "output_type": "stream",
     "text": [
      "\n",
      "S\n",
      "oS\n",
      "goS\n",
      "agoS\n",
      "nagoS\n",
      "gnagoS\n",
      " gnagoS\n",
      "U gnagoS\n",
      "nU gnagoS\n",
      "inU gnagoS\n",
      "vinU gnagoS\n",
      "evinU gnagoS\n",
      "revinU gnagoS\n",
      "srevinU gnagoS\n",
      "isrevinU gnagoS\n",
      "tisrevinU gnagoS\n",
      "ytisrevinU gnagoS\n"
     ]
    }
   ],
   "source": [
    "%run inverseIn"
   ]
  },
  {
   "cell_type": "code",
   "execution_count": null,
   "id": "92f75d1d-2f94-4b84-becf-b04475af1a91",
   "metadata": {},
   "outputs": [],
   "source": []
  }
 ],
 "metadata": {
  "kernelspec": {
   "display_name": "Python [conda env:base] *",
   "language": "python",
   "name": "conda-base-py"
  },
  "language_info": {
   "codemirror_mode": {
    "name": "ipython",
    "version": 3
   },
   "file_extension": ".py",
   "mimetype": "text/x-python",
   "name": "python",
   "nbconvert_exporter": "python",
   "pygments_lexer": "ipython3",
   "version": "3.12.7"
  }
 },
 "nbformat": 4,
 "nbformat_minor": 5
}
