{
 "cells": [
  {
   "cell_type": "code",
   "execution_count": 13,
   "id": "16578390-89b2-4f22-803f-ce6e273c0936",
   "metadata": {},
   "outputs": [
    {
     "name": "stdout",
     "output_type": "stream",
     "text": [
      "Overwriting inversIn.py\n"
     ]
    }
   ],
   "source": [
    "%%writefile inversIn.py\n",
    "def inverse(word):\n",
    "    i = 0\n",
    "    a = \"\"\n",
    "    for i in range(0, len(word)):\n",
    "        a = word[i] + a\n",
    "        p\n",
    "\n",
    "a = input(\"Input : \")\n",
    "inverse(a)"
   ]
  },
  {
   "cell_type": "code",
   "execution_count": null,
   "id": "c076ee45-6c1e-4d0c-a0f2-3d539d2b8c11",
   "metadata": {},
   "outputs": [],
   "source": []
  }
 ],
 "metadata": {
  "kernelspec": {
   "display_name": "Python 3 (ipykernel)",
   "language": "python",
   "name": "python3"
  },
  "language_info": {
   "codemirror_mode": {
    "name": "ipython",
    "version": 3
   },
   "file_extension": ".py",
   "mimetype": "text/x-python",
   "name": "python",
   "nbconvert_exporter": "python",
   "pygments_lexer": "ipython3",
   "version": "3.12.4"
  }
 },
 "nbformat": 4,
 "nbformat_minor": 5
}
