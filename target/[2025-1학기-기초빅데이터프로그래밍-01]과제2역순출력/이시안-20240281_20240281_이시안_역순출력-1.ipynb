{
 "cells": [
  {
   "cell_type": "code",
   "execution_count": 1,
   "id": "eb86e6ed-56fc-4bb7-9b0d-ffd5da92280d",
   "metadata": {},
   "outputs": [
    {
     "name": "stdout",
     "output_type": "stream",
     "text": [
      "Overwriting inverseIn.py\n"
     ]
    }
   ],
   "source": [
    "%%writefile inverseIn.py\n",
    "\n",
    "text = input(\"Input :\")\n",
    "result = \"\"\n",
    "print(\"\")\n",
    "for x in text :\n",
    "    result = x + result\n",
    "    print(result)"
   ]
  },
  {
   "cell_type": "code",
   "execution_count": 3,
   "id": "d45871af-7f68-4dbf-b3e4-7c4b5095d304",
   "metadata": {},
   "outputs": [
    {
     "name": "stdin",
     "output_type": "stream",
     "text": [
      "Input : Sogang University\n"
     ]
    },
    {
     "name": "stdout",
     "output_type": "stream",
     "text": [
      "\n",
      "S\n",
      "oS\n",
      "goS\n",
      "agoS\n",
      "nagoS\n",
      "gnagoS\n",
      " gnagoS\n",
      "U gnagoS\n",
      "nU gnagoS\n",
      "inU gnagoS\n",
      "vinU gnagoS\n",
      "evinU gnagoS\n",
      "revinU gnagoS\n",
      "srevinU gnagoS\n",
      "isrevinU gnagoS\n",
      "tisrevinU gnagoS\n",
      "ytisrevinU gnagoS\n"
     ]
    }
   ],
   "source": [
    "%run inverseIn.py"
   ]
  },
  {
   "cell_type": "code",
   "execution_count": null,
   "id": "f5bf2ac2-68b7-4bbe-a9ce-498c4af6bdcd",
   "metadata": {},
   "outputs": [],
   "source": []
  }
 ],
 "metadata": {
  "kernelspec": {
   "display_name": "Python 3 (ipykernel)",
   "language": "python",
   "name": "python3"
  },
  "language_info": {
   "codemirror_mode": {
    "name": "ipython",
    "version": 3
   },
   "file_extension": ".py",
   "mimetype": "text/x-python",
   "name": "python",
   "nbconvert_exporter": "python",
   "pygments_lexer": "ipython3",
   "version": "3.12.4"
  }
 },
 "nbformat": 4,
 "nbformat_minor": 5
}
