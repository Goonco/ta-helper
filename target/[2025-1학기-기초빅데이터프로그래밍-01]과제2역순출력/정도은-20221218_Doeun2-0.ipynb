{
 "cells": [
  {
   "cell_type": "code",
   "execution_count": 11,
   "id": "13d7651d-d259-4fc4-a380-f203a61c9f8d",
   "metadata": {},
   "outputs": [
    {
     "name": "stdout",
     "output_type": "stream",
     "text": [
      "Overwriting inverseIn.py\n"
     ]
    }
   ],
   "source": [
    "%%writefile inverseIn.py\n",
    "\n",
    "def inverse():\n",
    "    a = input('Input :')\n",
    "    print('')\n",
    "    for i in range(0,len(a)):\n",
    "        print(a[i::-1])\n",
    "\n",
    "inverse()"
   ]
  },
  {
   "cell_type": "code",
   "execution_count": 13,
   "id": "9ed3d667-0d3c-4c19-bef3-59c935b3f637",
   "metadata": {},
   "outputs": [
    {
     "name": "stdin",
     "output_type": "stream",
     "text": [
      "Input : Sogang University\n"
     ]
    },
    {
     "name": "stdout",
     "output_type": "stream",
     "text": [
      "\n",
      "S\n",
      "oS\n",
      "goS\n",
      "agoS\n",
      "nagoS\n",
      "gnagoS\n",
      " gnagoS\n",
      "U gnagoS\n",
      "nU gnagoS\n",
      "inU gnagoS\n",
      "vinU gnagoS\n",
      "evinU gnagoS\n",
      "revinU gnagoS\n",
      "srevinU gnagoS\n",
      "isrevinU gnagoS\n",
      "tisrevinU gnagoS\n",
      "ytisrevinU gnagoS\n"
     ]
    }
   ],
   "source": [
    "%run inverseIn.py"
   ]
  },
  {
   "cell_type": "code",
   "execution_count": null,
   "id": "10b84fbb-b429-4539-a92e-a93582893aa4",
   "metadata": {},
   "outputs": [],
   "source": []
  }
 ],
 "metadata": {
  "kernelspec": {
   "display_name": "Python 3 (ipykernel)",
   "language": "python",
   "name": "python3"
  },
  "language_info": {
   "codemirror_mode": {
    "name": "ipython",
    "version": 3
   },
   "file_extension": ".py",
   "mimetype": "text/x-python",
   "name": "python",
   "nbconvert_exporter": "python",
   "pygments_lexer": "ipython3",
   "version": "3.12.4"
  }
 },
 "nbformat": 4,
 "nbformat_minor": 5
}
