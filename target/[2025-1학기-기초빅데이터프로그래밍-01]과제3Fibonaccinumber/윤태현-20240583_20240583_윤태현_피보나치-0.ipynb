{
 "cells": [
  {
   "cell_type": "code",
   "execution_count": 1,
   "id": "2f319a2d-beb4-452c-b86a-e3df5c0903ed",
   "metadata": {},
   "outputs": [
    {
     "name": "stdout",
     "output_type": "stream",
     "text": [
      "Overwriting fibonacci.py\n"
     ]
    }
   ],
   "source": [
    "%%writefile fibonacci.py\n",
    "\n",
    "def fibo(a):\n",
    "    F=[0,1]\n",
    "    for i in range(a):\n",
    "        F.append(F[-1]+F[-2])\n",
    "    return print(F[a])\n",
    "    \n",
    "if __name__=='__main__':\n",
    "    a=int(input('input:'))\n",
    "    fibo(a)"
   ]
  },
  {
   "cell_type": "code",
   "execution_count": 2,
   "id": "1f441a21-06a9-40c8-8219-a575cfa319be",
   "metadata": {},
   "outputs": [
    {
     "name": "stdin",
     "output_type": "stream",
     "text": [
      "input: 7\n"
     ]
    },
    {
     "name": "stdout",
     "output_type": "stream",
     "text": [
      "13\n"
     ]
    }
   ],
   "source": [
    "%run fibonacci.py"
   ]
  },
  {
   "cell_type": "code",
   "execution_count": 3,
   "id": "5300404b-4e9c-42e2-ae25-0b9e8e3a5f04",
   "metadata": {},
   "outputs": [
    {
     "name": "stdout",
     "output_type": "stream",
     "text": [
      "34\n"
     ]
    }
   ],
   "source": [
    "import fibonacci\n",
    "fibonacci.fibo(9)"
   ]
  },
  {
   "cell_type": "code",
   "execution_count": null,
   "id": "bea7fde2-7dbe-4842-8ef6-ef8df3d413bb",
   "metadata": {},
   "outputs": [],
   "source": []
  }
 ],
 "metadata": {
  "kernelspec": {
   "display_name": "Python 3 (ipykernel)",
   "language": "python",
   "name": "python3"
  },
  "language_info": {
   "codemirror_mode": {
    "name": "ipython",
    "version": 3
   },
   "file_extension": ".py",
   "mimetype": "text/x-python",
   "name": "python",
   "nbconvert_exporter": "python",
   "pygments_lexer": "ipython3",
   "version": "3.12.4"
  }
 },
 "nbformat": 4,
 "nbformat_minor": 5
}
