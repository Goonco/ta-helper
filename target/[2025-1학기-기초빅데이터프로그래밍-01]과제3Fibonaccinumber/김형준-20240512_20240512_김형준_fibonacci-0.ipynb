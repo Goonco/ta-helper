{
 "cells": [
  {
   "cell_type": "code",
   "execution_count": 75,
   "id": "ed74e6af-bd5d-4084-a7bf-6689c2b88854",
   "metadata": {},
   "outputs": [
    {
     "name": "stdout",
     "output_type": "stream",
     "text": [
      "Overwriting fibonacci.py\n"
     ]
    }
   ],
   "source": [
    "%%writefile fibonacci.py\n",
    "\n",
    "def fibo(n):\n",
    "    if n == 1:\n",
    "        return 1\n",
    "    elif n == 2:\n",
    "        return 1\n",
    "    elif n == 0 :\n",
    "        return 0\n",
    "    else:\n",
    "        a=0\n",
    "        b=1\n",
    "        for x in range(n - 1):\n",
    "            t=b\n",
    "            b = a + b\n",
    "            a = t\n",
    "        return b\n",
    "\n",
    "if __name__ == \"__main__\":\n",
    "    num = int(input(\"input: \"))\n",
    "    print(fibo(num))\n"
   ]
  },
  {
   "cell_type": "code",
   "execution_count": 77,
   "id": "b2bce3c8-f7d4-4875-9093-b740ca6e0b37",
   "metadata": {},
   "outputs": [
    {
     "name": "stdin",
     "output_type": "stream",
     "text": [
      "input:  7\n"
     ]
    },
    {
     "name": "stdout",
     "output_type": "stream",
     "text": [
      "13\n"
     ]
    }
   ],
   "source": [
    "%run fibonacci"
   ]
  },
  {
   "cell_type": "code",
   "execution_count": 21,
   "id": "45733a13-06d9-4931-b9ba-7c1b4892dc5e",
   "metadata": {},
   "outputs": [
    {
     "data": {
      "text/plain": [
       "13"
      ]
     },
     "execution_count": 21,
     "metadata": {},
     "output_type": "execute_result"
    }
   ],
   "source": [
    "import fibonacci\n",
    "fibonacci.fibo(7)"
   ]
  }
 ],
 "metadata": {
  "kernelspec": {
   "display_name": "Python [conda env:base] *",
   "language": "python",
   "name": "conda-base-py"
  },
  "language_info": {
   "codemirror_mode": {
    "name": "ipython",
    "version": 3
   },
   "file_extension": ".py",
   "mimetype": "text/x-python",
   "name": "python",
   "nbconvert_exporter": "python",
   "pygments_lexer": "ipython3",
   "version": "3.12.7"
  }
 },
 "nbformat": 4,
 "nbformat_minor": 5
}
