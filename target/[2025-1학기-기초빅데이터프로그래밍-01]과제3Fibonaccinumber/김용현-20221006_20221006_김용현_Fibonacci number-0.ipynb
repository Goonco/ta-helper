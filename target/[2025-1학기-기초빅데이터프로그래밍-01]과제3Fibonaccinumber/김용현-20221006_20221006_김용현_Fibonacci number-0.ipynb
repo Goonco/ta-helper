{
 "cells": [
  {
   "cell_type": "code",
   "execution_count": 1,
   "id": "733dd948-158f-4474-8ee9-455771c5e4e7",
   "metadata": {},
   "outputs": [
    {
     "name": "stdout",
     "output_type": "stream",
     "text": [
      "Overwriting fibonacci.py\n"
     ]
    }
   ],
   "source": [
    "%%writefile fibonacci.py\n",
    "def fibo(x):\n",
    "    if x>2:\n",
    "        return fibo(x-1) + fibo(x-2)\n",
    "    else:\n",
    "        return 1\n",
    "    \n",
    "if __name__ == \"__main__\":\n",
    "    N = int(input(\"input: \"))\n",
    "    print(fibo(N))"
   ]
  },
  {
   "cell_type": "code",
   "execution_count": 2,
   "id": "adb6c98b-43fe-4d87-8e9f-8a1f11ec348c",
   "metadata": {},
   "outputs": [
    {
     "name": "stdin",
     "output_type": "stream",
     "text": [
      "input:  7\n"
     ]
    },
    {
     "name": "stdout",
     "output_type": "stream",
     "text": [
      "13\n"
     ]
    }
   ],
   "source": [
    "%run fibonacci.py"
   ]
  },
  {
   "cell_type": "code",
   "execution_count": 3,
   "id": "3d6a7731-a376-4215-919d-a586b7f67f22",
   "metadata": {},
   "outputs": [
    {
     "data": {
      "text/plain": [
       "13"
      ]
     },
     "execution_count": 3,
     "metadata": {},
     "output_type": "execute_result"
    }
   ],
   "source": [
    "import fibonacci\n",
    "fibonacci.fibo(7)"
   ]
  }
 ],
 "metadata": {
  "kernelspec": {
   "display_name": "Python 3 (ipykernel)",
   "language": "python",
   "name": "python3"
  },
  "language_info": {
   "codemirror_mode": {
    "name": "ipython",
    "version": 3
   },
   "file_extension": ".py",
   "mimetype": "text/x-python",
   "name": "python",
   "nbconvert_exporter": "python",
   "pygments_lexer": "ipython3",
   "version": "3.12.7"
  }
 },
 "nbformat": 4,
 "nbformat_minor": 5
}
