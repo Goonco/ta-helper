{
 "cells": [
  {
   "cell_type": "code",
   "execution_count": 12,
   "id": "436695cf-81eb-4393-9f09-34cfae8f25a5",
   "metadata": {},
   "outputs": [
    {
     "name": "stdout",
     "output_type": "stream",
     "text": [
      "Overwriting fibonacci.py\n"
     ]
    }
   ],
   "source": [
    "%%writefile fibonacci.py\n",
    "\n",
    "def fibo(x):\n",
    "    F=[0, 1]\n",
    "    x=int(x)\n",
    "    \n",
    "    if x==0 or x==1:\n",
    "        print(F[x])\n",
    "    else: \n",
    "        for i in range(2, x+1): F.append(F[i-1]+F[i-2]) \n",
    "        print(F[x])\n",
    "\n",
    "if __name__ == '__main__':\n",
    "    A=input(\"Input: \")\n",
    "    fibo(A)"
   ]
  },
  {
   "cell_type": "code",
   "execution_count": 13,
   "id": "d86da0db-2a77-41cf-914c-85d78a25e5e7",
   "metadata": {},
   "outputs": [
    {
     "name": "stdin",
     "output_type": "stream",
     "text": [
      "Input:  7\n"
     ]
    },
    {
     "name": "stdout",
     "output_type": "stream",
     "text": [
      "13\n"
     ]
    }
   ],
   "source": [
    "%run fibonacci.py"
   ]
  },
  {
   "cell_type": "code",
   "execution_count": 15,
   "id": "f4e49430-b6d0-4f24-90fb-019bf96b3373",
   "metadata": {},
   "outputs": [
    {
     "name": "stdout",
     "output_type": "stream",
     "text": [
      "13\n"
     ]
    }
   ],
   "source": [
    "import fibonacci\n",
    "fibonacci.fibo(7)"
   ]
  },
  {
   "cell_type": "code",
   "execution_count": null,
   "id": "524fe31a-679f-47f5-9e85-f9edac0a8454",
   "metadata": {},
   "outputs": [],
   "source": []
  }
 ],
 "metadata": {
  "kernelspec": {
   "display_name": "Python 3 (ipykernel)",
   "language": "python",
   "name": "python3"
  },
  "language_info": {
   "codemirror_mode": {
    "name": "ipython",
    "version": 3
   },
   "file_extension": ".py",
   "mimetype": "text/x-python",
   "name": "python",
   "nbconvert_exporter": "python",
   "pygments_lexer": "ipython3",
   "version": "3.12.4"
  }
 },
 "nbformat": 4,
 "nbformat_minor": 5
}
