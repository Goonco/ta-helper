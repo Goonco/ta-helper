{
 "cells": [
  {
   "cell_type": "code",
   "execution_count": 1,
   "id": "6e3159f3-6813-4f02-90a2-940e56011270",
   "metadata": {},
   "outputs": [
    {
     "name": "stdout",
     "output_type": "stream",
     "text": [
      "Overwriting fibonacci.py\n"
     ]
    }
   ],
   "source": [
    "%%writefile fibonacci.py\n",
    "\n",
    "fibonacci=[1,1]\n",
    "\n",
    "def fibo(num):\n",
    "    if num<3:\n",
    "        print(1)\n",
    "    else:\n",
    "        fibonacci=[1,1]\n",
    "        for i in range(2,num):\n",
    "            num_fibo=[fibonacci[i-2]+fibonacci[i-1]]\n",
    "            fibonacci+=num_fibo\n",
    "        return(fibonacci[num-1])     \n",
    "\n",
    "if __name__==\"__main__\":\n",
    "    num=int(input(\"input: \"))\n",
    "    if num<3:\n",
    "        print(1)\n",
    "    else:\n",
    "        for i in range(2,num):\n",
    "            num_fibo=[fibonacci[i-2]+fibonacci[i-1]]\n",
    "            fibonacci+=num_fibo\n",
    "        print(fibonacci[num-1])"
   ]
  },
  {
   "cell_type": "code",
   "execution_count": 7,
   "id": "70c54eca-7dae-4286-96a5-d589abe1c7ba",
   "metadata": {},
   "outputs": [
    {
     "name": "stdin",
     "output_type": "stream",
     "text": [
      "input:  7\n"
     ]
    },
    {
     "name": "stdout",
     "output_type": "stream",
     "text": [
      "13\n"
     ]
    }
   ],
   "source": [
    "%run fibonacci.py"
   ]
  },
  {
   "cell_type": "code",
   "execution_count": 9,
   "id": "aab1ecf2-e72d-4519-952c-a0b8e9103479",
   "metadata": {},
   "outputs": [
    {
     "data": {
      "text/plain": [
       "13"
      ]
     },
     "execution_count": 9,
     "metadata": {},
     "output_type": "execute_result"
    }
   ],
   "source": [
    "import fibonacci\n",
    "fibonacci.fibo(7)"
   ]
  },
  {
   "cell_type": "code",
   "execution_count": null,
   "id": "5d157339-dfbc-4d01-8788-8dd314b6e177",
   "metadata": {},
   "outputs": [],
   "source": []
  }
 ],
 "metadata": {
  "kernelspec": {
   "display_name": "Python [conda env:base] *",
   "language": "python",
   "name": "conda-base-py"
  },
  "language_info": {
   "codemirror_mode": {
    "name": "ipython",
    "version": 3
   },
   "file_extension": ".py",
   "mimetype": "text/x-python",
   "name": "python",
   "nbconvert_exporter": "python",
   "pygments_lexer": "ipython3",
   "version": "3.12.7"
  }
 },
 "nbformat": 4,
 "nbformat_minor": 5
}
