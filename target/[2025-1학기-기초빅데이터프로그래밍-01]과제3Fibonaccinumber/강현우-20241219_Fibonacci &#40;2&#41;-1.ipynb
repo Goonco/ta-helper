{
 "cells": [
  {
   "cell_type": "code",
   "execution_count": 62,
   "id": "d779bd9a-bff3-4867-b1e5-e227afb0ffa1",
   "metadata": {},
   "outputs": [
    {
     "name": "stdout",
     "output_type": "stream",
     "text": [
      "Overwriting fibonacci.py\n"
     ]
    }
   ],
   "source": [
    "%%writefile fibonacci.py\n",
    "\n",
    "n=int(input('input:'))\n",
    "Fib=0\n",
    "temp=0\n",
    "ftemp=1\n",
    "btemp=1\n",
    "\n",
    "if n==1 or n==2 :\n",
    "    print('1')\n",
    "else:\n",
    "    for temp in range(2,n):\n",
    "        Fib=ftemp+btemp\n",
    "        btemp=ftemp\n",
    "        ftemp=Fib\n",
    "    print(Fib)"
   ]
  },
  {
   "cell_type": "code",
   "execution_count": 63,
   "id": "1ff34e19-fcf2-4f6a-8768-dce3aca695f2",
   "metadata": {},
   "outputs": [
    {
     "name": "stdin",
     "output_type": "stream",
     "text": [
      "input: 7\n"
     ]
    },
    {
     "name": "stdout",
     "output_type": "stream",
     "text": [
      "13\n"
     ]
    }
   ],
   "source": [
    "%run fibonacci.py"
   ]
  },
  {
   "cell_type": "code",
   "execution_count": 1,
   "id": "2977c221-0853-4989-8632-3c6018678d01",
   "metadata": {},
   "outputs": [
    {
     "name": "stdout",
     "output_type": "stream",
     "text": [
      "Overwriting fibonacci.py\n"
     ]
    }
   ],
   "source": [
    "%%writefile fibonacci.py\n",
    "def Fibo(n):\n",
    "    global Fib\n",
    "    Fib=0\n",
    "    temp=0\n",
    "    ftemp=1\n",
    "    btemp=1\n",
    "\n",
    "    if n==1 or n==2 :\n",
    "        return(1)\n",
    "    else:\n",
    "        for temp in range(2,n):\n",
    "            Fib=ftemp+btemp\n",
    "            btemp=ftemp\n",
    "            ftemp=Fib\n",
    "        return Fib"
   ]
  },
  {
   "cell_type": "code",
   "execution_count": 2,
   "id": "fa85b437-5b33-4594-a201-09d17b3c19ae",
   "metadata": {},
   "outputs": [
    {
     "data": {
      "text/plain": [
       "13"
      ]
     },
     "execution_count": 2,
     "metadata": {},
     "output_type": "execute_result"
    }
   ],
   "source": [
    "import fibonacci\n",
    "fibonacci.Fibo(7)"
   ]
  },
  {
   "cell_type": "code",
   "execution_count": null,
   "id": "e8059924-1ddb-4dfd-9356-fc2f1be108c0",
   "metadata": {},
   "outputs": [],
   "source": []
  }
 ],
 "metadata": {
  "kernelspec": {
   "display_name": "Python 3 (ipykernel)",
   "language": "python",
   "name": "python3"
  },
  "language_info": {
   "codemirror_mode": {
    "name": "ipython",
    "version": 3
   },
   "file_extension": ".py",
   "mimetype": "text/x-python",
   "name": "python",
   "nbconvert_exporter": "python",
   "pygments_lexer": "ipython3",
   "version": "3.12.4"
  }
 },
 "nbformat": 4,
 "nbformat_minor": 5
}
