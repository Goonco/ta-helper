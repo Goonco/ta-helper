{
 "cells": [
  {
   "cell_type": "code",
   "execution_count": 12,
   "id": "daf382a9-2972-4eee-aed5-73092e4828e9",
   "metadata": {},
   "outputs": [
    {
     "name": "stdout",
     "output_type": "stream",
     "text": [
      "Overwriting fibonacci.py\n"
     ]
    }
   ],
   "source": [
    "%%writefile fibonacci.py\n",
    "\n",
    "def fibo(x):\n",
    "    fiblist=[0,1]\n",
    "    if x<3:\n",
    "        fibnum=fiblist[x-1]\n",
    "        return fibnum\n",
    "    else:\n",
    "        for i in range(x):\n",
    "            fiblist.append(fiblist[i]+fiblist[i+1])\n",
    "        return fiblist[x]\n",
    "\n",
    "if __name__==\"__main__\":\n",
    "    num=input(\"input:\")\n",
    "    print(fibo(int(num)))"
   ]
  },
  {
   "cell_type": "code",
   "execution_count": 38,
   "id": "905efa92-3cf8-4966-84a5-9883a262136c",
   "metadata": {},
   "outputs": [
    {
     "name": "stdin",
     "output_type": "stream",
     "text": [
      "input: 7\n"
     ]
    },
    {
     "name": "stdout",
     "output_type": "stream",
     "text": [
      "13\n"
     ]
    }
   ],
   "source": [
    "%run fibonacci.py"
   ]
  },
  {
   "cell_type": "code",
   "execution_count": 40,
   "id": "aaa655fc-5863-4537-b7e4-a6bf6d39f30f",
   "metadata": {},
   "outputs": [
    {
     "data": {
      "text/plain": [
       "13"
      ]
     },
     "execution_count": 40,
     "metadata": {},
     "output_type": "execute_result"
    }
   ],
   "source": [
    "import fibonacci\n",
    "fibonacci.fibo(7)"
   ]
  },
  {
   "cell_type": "code",
   "execution_count": null,
   "id": "72cc4e91-ff35-4bd3-ae99-72f8d890b90a",
   "metadata": {},
   "outputs": [],
   "source": []
  }
 ],
 "metadata": {
  "kernelspec": {
   "display_name": "Python [conda env:base] *",
   "language": "python",
   "name": "conda-base-py"
  },
  "language_info": {
   "codemirror_mode": {
    "name": "ipython",
    "version": 3
   },
   "file_extension": ".py",
   "mimetype": "text/x-python",
   "name": "python",
   "nbconvert_exporter": "python",
   "pygments_lexer": "ipython3",
   "version": "3.12.7"
  }
 },
 "nbformat": 4,
 "nbformat_minor": 5
}
