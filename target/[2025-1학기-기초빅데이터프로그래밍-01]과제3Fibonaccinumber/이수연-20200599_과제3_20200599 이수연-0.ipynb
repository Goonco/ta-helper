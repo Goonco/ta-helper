{
 "cells": [
  {
   "cell_type": "code",
   "execution_count": 9,
   "id": "16b69e88-e2ac-4d9e-9af5-268c2ca3ce4e",
   "metadata": {},
   "outputs": [
    {
     "name": "stdout",
     "output_type": "stream",
     "text": [
      "Overwriting fibona.py\n"
     ]
    }
   ],
   "source": [
    "%%writefile fibona.py\n",
    "def fibo(num) :\n",
    "    \n",
    "    if num <= 0:\n",
    "        return 0\n",
    "        \n",
    "    elif num == 1:\n",
    "        return 1\n",
    "        \n",
    "    else : \n",
    "        return fibo(num-2) + fibo(num-1)\n",
    "\n",
    "if __name__ == '__main__' :\n",
    "    \n",
    "    a = int(input('input : '))\n",
    "    result = fibo(a)\n",
    "    \n",
    "    print(result)"
   ]
  },
  {
   "cell_type": "code",
   "execution_count": 10,
   "id": "5a9084b5-8566-4507-8e8e-798fde2f4b8a",
   "metadata": {},
   "outputs": [
    {
     "name": "stdin",
     "output_type": "stream",
     "text": [
      "input :  7\n"
     ]
    },
    {
     "name": "stdout",
     "output_type": "stream",
     "text": [
      "13\n"
     ]
    }
   ],
   "source": [
    "%run fibona.py"
   ]
  },
  {
   "cell_type": "code",
   "execution_count": 11,
   "id": "3766113f-a972-4d32-b293-5d183c3267ab",
   "metadata": {},
   "outputs": [
    {
     "data": {
      "text/plain": [
       "13"
      ]
     },
     "execution_count": 11,
     "metadata": {},
     "output_type": "execute_result"
    }
   ],
   "source": [
    "import fibona\n",
    "fibona.fibo(7)"
   ]
  },
  {
   "cell_type": "code",
   "execution_count": null,
   "id": "d33deeb9-b048-4e2b-821c-349c0c6ef26d",
   "metadata": {},
   "outputs": [],
   "source": []
  }
 ],
 "metadata": {
  "kernelspec": {
   "display_name": "Python 3 (ipykernel)",
   "language": "python",
   "name": "python3"
  },
  "language_info": {
   "codemirror_mode": {
    "name": "ipython",
    "version": 3
   },
   "file_extension": ".py",
   "mimetype": "text/x-python",
   "name": "python",
   "nbconvert_exporter": "python",
   "pygments_lexer": "ipython3",
   "version": "3.13.0"
  }
 },
 "nbformat": 4,
 "nbformat_minor": 5
}
