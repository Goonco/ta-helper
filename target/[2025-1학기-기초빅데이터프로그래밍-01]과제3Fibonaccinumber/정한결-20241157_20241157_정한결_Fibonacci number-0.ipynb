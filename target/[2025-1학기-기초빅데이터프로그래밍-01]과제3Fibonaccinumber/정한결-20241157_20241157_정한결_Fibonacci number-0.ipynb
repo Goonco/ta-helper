{
 "cells": [
  {
   "cell_type": "code",
   "execution_count": null,
   "id": "f95e3c91-b78c-46e2-969a-8c3d4bd2e144",
   "metadata": {},
   "outputs": [],
   "source": [
    "%%writefile fibonacci.py\n",
    "init_0 = 0\n",
    "init_1 = 1\n",
    "fibos = [init_0, init_1]\n",
    "\n",
    "def fibo(n):\n",
    "    for i in range(n):\n",
    "        new_fibo = fibos[i] + fibos[i+1]\n",
    "        fibos.append(new_fibo)\n",
    "    print(fibos[n])\n",
    "\n",
    "if __name__ == \"__main__\":\n",
    "    num = int(input(\"input: \"))\n",
    "    fibo(num)"
   ]
  },
  {
   "cell_type": "code",
   "execution_count": null,
   "id": "8bbe923e-dd41-48db-94cb-54c68dfb5811",
   "metadata": {},
   "outputs": [],
   "source": [
    "%run fibonacci.py"
   ]
  },
  {
   "cell_type": "code",
   "execution_count": null,
   "id": "7cf3e5e5-ded8-43a3-b67d-0d9e1625b7dc",
   "metadata": {},
   "outputs": [],
   "source": [
    "import fibonacci\n",
    "fibonacci.fibo(7)"
   ]
  }
 ],
 "metadata": {
  "kernelspec": {
   "display_name": "Python 3 (ipykernel)",
   "language": "python",
   "name": "python3"
  },
  "language_info": {
   "codemirror_mode": {
    "name": "ipython",
    "version": 3
   },
   "file_extension": ".py",
   "mimetype": "text/x-python",
   "name": "python",
   "nbconvert_exporter": "python",
   "pygments_lexer": "ipython3",
   "version": "3.12.4"
  }
 },
 "nbformat": 4,
 "nbformat_minor": 5
}
