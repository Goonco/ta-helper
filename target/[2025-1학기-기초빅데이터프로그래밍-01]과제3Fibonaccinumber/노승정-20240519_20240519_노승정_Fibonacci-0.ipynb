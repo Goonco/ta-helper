{
 "cells": [
  {
   "cell_type": "code",
   "execution_count": 2,
   "id": "5d74d752-fc26-414f-bb88-fb4bda975272",
   "metadata": {},
   "outputs": [
    {
     "name": "stdout",
     "output_type": "stream",
     "text": [
      "Overwriting fibonacci.py\n"
     ]
    }
   ],
   "source": [
    "%%writefile fibonacci.py\n",
    "f=[0,1]\n",
    "def fibo(number) :\n",
    "    for a in range(number) :\n",
    "        f.append(f[a]+f[a+1])\n",
    "    return f[number]\n",
    "\n",
    "if __name__=='__main__' :\n",
    "    num=int(input('Input:'))\n",
    "    print(fibo(num))"
   ]
  },
  {
   "cell_type": "code",
   "execution_count": 3,
   "id": "f6b77882-d497-4d5d-8fd0-2819579a8350",
   "metadata": {},
   "outputs": [
    {
     "data": {
      "text/plain": [
       "13"
      ]
     },
     "execution_count": 3,
     "metadata": {},
     "output_type": "execute_result"
    }
   ],
   "source": [
    "import fibonacci\n",
    "fibonacci.fibo(7)"
   ]
  },
  {
   "cell_type": "code",
   "execution_count": 4,
   "id": "140f4b98-9dc7-4cb8-ad0c-77b93de0e540",
   "metadata": {},
   "outputs": [
    {
     "name": "stdin",
     "output_type": "stream",
     "text": [
      "Input: 7\n"
     ]
    },
    {
     "name": "stdout",
     "output_type": "stream",
     "text": [
      "13\n"
     ]
    }
   ],
   "source": [
    "%run fibonacci.py"
   ]
  },
  {
   "cell_type": "code",
   "execution_count": null,
   "id": "9857fcdd-8d3e-4a3a-95ca-a505d7c04a17",
   "metadata": {},
   "outputs": [],
   "source": []
  }
 ],
 "metadata": {
  "kernelspec": {
   "display_name": "Python [conda env:base] *",
   "language": "python",
   "name": "conda-base-py"
  },
  "language_info": {
   "codemirror_mode": {
    "name": "ipython",
    "version": 3
   },
   "file_extension": ".py",
   "mimetype": "text/x-python",
   "name": "python",
   "nbconvert_exporter": "python",
   "pygments_lexer": "ipython3",
   "version": "3.12.7"
  }
 },
 "nbformat": 4,
 "nbformat_minor": 5
}
