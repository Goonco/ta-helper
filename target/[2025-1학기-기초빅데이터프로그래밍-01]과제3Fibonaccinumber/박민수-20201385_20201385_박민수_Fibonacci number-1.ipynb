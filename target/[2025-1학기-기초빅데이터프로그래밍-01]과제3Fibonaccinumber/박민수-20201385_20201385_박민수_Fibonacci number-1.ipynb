{
 "cells": [
  {
   "cell_type": "code",
   "execution_count": 8,
   "id": "2a7bc36f-8c31-4c20-a112-3397b8317ca3",
   "metadata": {},
   "outputs": [
    {
     "name": "stdout",
     "output_type": "stream",
     "text": [
      "Overwriting fibo_calculator.py\n"
     ]
    }
   ],
   "source": [
    "%%writefile fibo_calculator.py\n",
    "def fibo(x):\n",
    "    F = [0, 1]   \n",
    "    for i in range(2, x+1):\n",
    "        F.append(F[i-1] + F[i-2])\n",
    "    print(F[x])   \n",
    "    \n",
    "if __name__ == \"__main__\":\n",
    "    numb = int(input(\"input :\"))\n",
    "    fibo(numb)  "
   ]
  },
  {
   "cell_type": "code",
   "execution_count": 7,
   "id": "f89d24bc-ec93-4989-9426-426fac70de35",
   "metadata": {},
   "outputs": [
    {
     "name": "stdin",
     "output_type": "stream",
     "text": [
      "input : 11\n"
     ]
    },
    {
     "name": "stdout",
     "output_type": "stream",
     "text": [
      "89\n"
     ]
    }
   ],
   "source": [
    "%run fibo_calculator.py"
   ]
  },
  {
   "cell_type": "code",
   "execution_count": 6,
   "id": "e71975ac-33de-4b6d-b172-8f7515fe4946",
   "metadata": {},
   "outputs": [
    {
     "name": "stdout",
     "output_type": "stream",
     "text": [
      "6765\n"
     ]
    }
   ],
   "source": [
    "import fibo_calculator\n",
    "fibo_calculator.fibo(20)"
   ]
  },
  {
   "cell_type": "code",
   "execution_count": null,
   "id": "166b7438-da1b-4a52-a7bc-648aeeff2054",
   "metadata": {},
   "outputs": [],
   "source": []
  }
 ],
 "metadata": {
  "kernelspec": {
   "display_name": "Python 3 (ipykernel)",
   "language": "python",
   "name": "python3"
  },
  "language_info": {
   "codemirror_mode": {
    "name": "ipython",
    "version": 3
   },
   "file_extension": ".py",
   "mimetype": "text/x-python",
   "name": "python",
   "nbconvert_exporter": "python",
   "pygments_lexer": "ipython3",
   "version": "3.12.9"
  }
 },
 "nbformat": 4,
 "nbformat_minor": 5
}
