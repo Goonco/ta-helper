{
 "cells": [
  {
   "cell_type": "code",
   "execution_count": 27,
   "id": "381e64be-d8b6-4c97-a474-683dfaedbdd8",
   "metadata": {},
   "outputs": [
    {
     "name": "stdout",
     "output_type": "stream",
     "text": [
      "Overwriting fibonacci.py\n"
     ]
    }
   ],
   "source": [
    "%%writefile fibonacci.py\n",
    "\n",
    "if __name__==\"__main__\":\n",
    "    num = int(input('input: '))\n",
    "    fibolist=[0,1]\n",
    "    for i in range (2, num+1):\n",
    "        fibolist.append(fibolist[i-2]+fibolist[i-1])\n",
    "    print(fibolist[num])\n",
    "\n",
    "else:\n",
    "    def fibo(x):\n",
    "        fibolist=[0,1]\n",
    "        for i in range (2, x+1):\n",
    "            fibolist.append(fibolist[i-2]+fibolist[i-1])\n",
    "        return fibolist[x]"
   ]
  },
  {
   "cell_type": "code",
   "execution_count": 29,
   "id": "0be06eb4-21a7-422a-8016-0995a4c4f795",
   "metadata": {},
   "outputs": [
    {
     "name": "stdin",
     "output_type": "stream",
     "text": [
      "input:  7\n"
     ]
    },
    {
     "name": "stdout",
     "output_type": "stream",
     "text": [
      "13\n"
     ]
    }
   ],
   "source": [
    "%run fibonacci.py"
   ]
  },
  {
   "cell_type": "code",
   "execution_count": 31,
   "id": "89127ecd-1602-4822-a0fa-072bebc26e22",
   "metadata": {},
   "outputs": [
    {
     "data": {
      "text/plain": [
       "13"
      ]
     },
     "execution_count": 31,
     "metadata": {},
     "output_type": "execute_result"
    }
   ],
   "source": [
    "import fibonacci\n",
    "fibonacci.fibo(7)"
   ]
  },
  {
   "cell_type": "code",
   "execution_count": null,
   "id": "bdb45c46-6c59-4d2f-a4a0-11d5ac46c722",
   "metadata": {},
   "outputs": [],
   "source": []
  }
 ],
 "metadata": {
  "kernelspec": {
   "display_name": "Python 3 (ipykernel)",
   "language": "python",
   "name": "python3"
  },
  "language_info": {
   "codemirror_mode": {
    "name": "ipython",
    "version": 3
   },
   "file_extension": ".py",
   "mimetype": "text/x-python",
   "name": "python",
   "nbconvert_exporter": "python",
   "pygments_lexer": "ipython3",
   "version": "3.12.4"
  }
 },
 "nbformat": 4,
 "nbformat_minor": 5
}
