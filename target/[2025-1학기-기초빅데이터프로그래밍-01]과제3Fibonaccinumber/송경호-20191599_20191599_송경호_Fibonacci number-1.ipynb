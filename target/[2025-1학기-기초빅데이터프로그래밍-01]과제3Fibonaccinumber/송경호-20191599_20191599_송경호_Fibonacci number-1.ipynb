{
 "cells": [
  {
   "cell_type": "code",
   "execution_count": 21,
   "id": "919951b2-6dfb-4dc0-aca5-eca5510cfae6",
   "metadata": {},
   "outputs": [
    {
     "name": "stdout",
     "output_type": "stream",
     "text": [
      "Overwriting fibonacci.py\n"
     ]
    }
   ],
   "source": [
    "%%writefile fibonacci.py\n",
    "\n",
    "def fibo(level) :\n",
    "    if level == 0 or level == 1 : return level                                # base case\n",
    "    elif level >= 2 : return fibo(level - 1) + fibo(level - 2)                # recursive\n",
    "    else : raise ValueError(\"Negative integer not allowed!\")                  # error handling\n",
    "\n",
    "if __name__ == \"__main__\" :\n",
    "    level = int(input(\"input: \"))\n",
    "    print(fibo(level))"
   ]
  },
  {
   "cell_type": "code",
   "execution_count": 22,
   "id": "a42461fe-be34-42ba-9bc5-153f1adbaedd",
   "metadata": {},
   "outputs": [
    {
     "name": "stdin",
     "output_type": "stream",
     "text": [
      "input:  7\n"
     ]
    },
    {
     "name": "stdout",
     "output_type": "stream",
     "text": [
      "13\n"
     ]
    }
   ],
   "source": [
    "%run fibonacci.py"
   ]
  },
  {
   "cell_type": "code",
   "execution_count": 23,
   "id": "caf823b7-b574-48c3-ae3d-4470ae1d5347",
   "metadata": {},
   "outputs": [
    {
     "data": {
      "text/plain": [
       "13"
      ]
     },
     "execution_count": 23,
     "metadata": {},
     "output_type": "execute_result"
    }
   ],
   "source": [
    "import fibonacci\n",
    "fibonacci.fibo(7)"
   ]
  }
 ],
 "metadata": {
  "kernelspec": {
   "display_name": "Python 3 (ipykernel)",
   "language": "python",
   "name": "python3"
  },
  "language_info": {
   "codemirror_mode": {
    "name": "ipython",
    "version": 3
   },
   "file_extension": ".py",
   "mimetype": "text/x-python",
   "name": "python",
   "nbconvert_exporter": "python",
   "pygments_lexer": "ipython3",
   "version": "3.13.2"
  }
 },
 "nbformat": 4,
 "nbformat_minor": 5
}
